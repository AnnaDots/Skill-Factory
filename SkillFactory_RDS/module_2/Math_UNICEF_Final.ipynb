{
 "cells": [
  {
   "cell_type": "code",
   "execution_count": 131,
   "metadata": {},
   "outputs": [],
   "source": [
    "import pandas as pd\n",
    "import matplotlib.pyplot as plt\n",
    "import seaborn as sns\n",
    "from itertools import combinations\n",
    "from scipy.stats import ttest_ind"
   ]
  },
  {
   "cell_type": "code",
   "execution_count": 132,
   "metadata": {},
   "outputs": [
    {
     "data": {
      "text/html": [
       "<div>\n",
       "<style scoped>\n",
       "    .dataframe tbody tr th:only-of-type {\n",
       "        vertical-align: middle;\n",
       "    }\n",
       "\n",
       "    .dataframe tbody tr th {\n",
       "        vertical-align: top;\n",
       "    }\n",
       "\n",
       "    .dataframe thead th {\n",
       "        text-align: right;\n",
       "    }\n",
       "</style>\n",
       "<table border=\"1\" class=\"dataframe\">\n",
       "  <thead>\n",
       "    <tr style=\"text-align: right;\">\n",
       "      <th></th>\n",
       "      <th>school</th>\n",
       "      <th>sex</th>\n",
       "      <th>age</th>\n",
       "      <th>address</th>\n",
       "      <th>famsize</th>\n",
       "      <th>Pstatus</th>\n",
       "      <th>Medu</th>\n",
       "      <th>Fedu</th>\n",
       "      <th>Mjob</th>\n",
       "      <th>Fjob</th>\n",
       "      <th>...</th>\n",
       "      <th>studytime, granular</th>\n",
       "      <th>higher</th>\n",
       "      <th>internet</th>\n",
       "      <th>romantic</th>\n",
       "      <th>famrel</th>\n",
       "      <th>freetime</th>\n",
       "      <th>goout</th>\n",
       "      <th>health</th>\n",
       "      <th>absences</th>\n",
       "      <th>score</th>\n",
       "    </tr>\n",
       "  </thead>\n",
       "  <tbody>\n",
       "    <tr>\n",
       "      <th>0</th>\n",
       "      <td>GP</td>\n",
       "      <td>F</td>\n",
       "      <td>18</td>\n",
       "      <td>U</td>\n",
       "      <td>NaN</td>\n",
       "      <td>A</td>\n",
       "      <td>4.0</td>\n",
       "      <td>4.0</td>\n",
       "      <td>at_home</td>\n",
       "      <td>teacher</td>\n",
       "      <td>...</td>\n",
       "      <td>-6.0</td>\n",
       "      <td>yes</td>\n",
       "      <td>NaN</td>\n",
       "      <td>no</td>\n",
       "      <td>4.0</td>\n",
       "      <td>3.0</td>\n",
       "      <td>4.0</td>\n",
       "      <td>3.0</td>\n",
       "      <td>6.0</td>\n",
       "      <td>30.0</td>\n",
       "    </tr>\n",
       "    <tr>\n",
       "      <th>1</th>\n",
       "      <td>GP</td>\n",
       "      <td>F</td>\n",
       "      <td>17</td>\n",
       "      <td>U</td>\n",
       "      <td>GT3</td>\n",
       "      <td>NaN</td>\n",
       "      <td>1.0</td>\n",
       "      <td>1.0</td>\n",
       "      <td>at_home</td>\n",
       "      <td>other</td>\n",
       "      <td>...</td>\n",
       "      <td>-6.0</td>\n",
       "      <td>yes</td>\n",
       "      <td>yes</td>\n",
       "      <td>no</td>\n",
       "      <td>5.0</td>\n",
       "      <td>3.0</td>\n",
       "      <td>3.0</td>\n",
       "      <td>3.0</td>\n",
       "      <td>4.0</td>\n",
       "      <td>30.0</td>\n",
       "    </tr>\n",
       "    <tr>\n",
       "      <th>2</th>\n",
       "      <td>GP</td>\n",
       "      <td>F</td>\n",
       "      <td>15</td>\n",
       "      <td>U</td>\n",
       "      <td>LE3</td>\n",
       "      <td>T</td>\n",
       "      <td>1.0</td>\n",
       "      <td>1.0</td>\n",
       "      <td>at_home</td>\n",
       "      <td>other</td>\n",
       "      <td>...</td>\n",
       "      <td>-6.0</td>\n",
       "      <td>yes</td>\n",
       "      <td>yes</td>\n",
       "      <td>NaN</td>\n",
       "      <td>4.0</td>\n",
       "      <td>3.0</td>\n",
       "      <td>2.0</td>\n",
       "      <td>3.0</td>\n",
       "      <td>10.0</td>\n",
       "      <td>50.0</td>\n",
       "    </tr>\n",
       "    <tr>\n",
       "      <th>3</th>\n",
       "      <td>GP</td>\n",
       "      <td>F</td>\n",
       "      <td>15</td>\n",
       "      <td>U</td>\n",
       "      <td>GT3</td>\n",
       "      <td>T</td>\n",
       "      <td>4.0</td>\n",
       "      <td>2.0</td>\n",
       "      <td>health</td>\n",
       "      <td>NaN</td>\n",
       "      <td>...</td>\n",
       "      <td>-9.0</td>\n",
       "      <td>yes</td>\n",
       "      <td>yes</td>\n",
       "      <td>yes</td>\n",
       "      <td>3.0</td>\n",
       "      <td>2.0</td>\n",
       "      <td>2.0</td>\n",
       "      <td>5.0</td>\n",
       "      <td>2.0</td>\n",
       "      <td>75.0</td>\n",
       "    </tr>\n",
       "    <tr>\n",
       "      <th>4</th>\n",
       "      <td>GP</td>\n",
       "      <td>F</td>\n",
       "      <td>16</td>\n",
       "      <td>U</td>\n",
       "      <td>GT3</td>\n",
       "      <td>T</td>\n",
       "      <td>3.0</td>\n",
       "      <td>3.0</td>\n",
       "      <td>other</td>\n",
       "      <td>other</td>\n",
       "      <td>...</td>\n",
       "      <td>-6.0</td>\n",
       "      <td>yes</td>\n",
       "      <td>no</td>\n",
       "      <td>no</td>\n",
       "      <td>4.0</td>\n",
       "      <td>3.0</td>\n",
       "      <td>2.0</td>\n",
       "      <td>5.0</td>\n",
       "      <td>4.0</td>\n",
       "      <td>50.0</td>\n",
       "    </tr>\n",
       "  </tbody>\n",
       "</table>\n",
       "<p>5 rows × 30 columns</p>\n",
       "</div>"
      ],
      "text/plain": [
       "  school sex  age address famsize Pstatus  Medu  Fedu     Mjob     Fjob  ...  \\\n",
       "0     GP   F   18       U     NaN       A   4.0   4.0  at_home  teacher  ...   \n",
       "1     GP   F   17       U     GT3     NaN   1.0   1.0  at_home    other  ...   \n",
       "2     GP   F   15       U     LE3       T   1.0   1.0  at_home    other  ...   \n",
       "3     GP   F   15       U     GT3       T   4.0   2.0   health      NaN  ...   \n",
       "4     GP   F   16       U     GT3       T   3.0   3.0    other    other  ...   \n",
       "\n",
       "  studytime, granular higher  internet  romantic  famrel freetime goout  \\\n",
       "0                -6.0    yes       NaN        no     4.0      3.0   4.0   \n",
       "1                -6.0    yes       yes        no     5.0      3.0   3.0   \n",
       "2                -6.0    yes       yes       NaN     4.0      3.0   2.0   \n",
       "3                -9.0    yes       yes       yes     3.0      2.0   2.0   \n",
       "4                -6.0    yes        no        no     4.0      3.0   2.0   \n",
       "\n",
       "  health absences score  \n",
       "0    3.0      6.0  30.0  \n",
       "1    3.0      4.0  30.0  \n",
       "2    3.0     10.0  50.0  \n",
       "3    5.0      2.0  75.0  \n",
       "4    5.0      4.0  50.0  \n",
       "\n",
       "[5 rows x 30 columns]"
      ]
     },
     "execution_count": 132,
     "metadata": {},
     "output_type": "execute_result"
    }
   ],
   "source": [
    "students = pd.read_csv('stud_math.csv')\n",
    "students.head()"
   ]
  },
  {
   "cell_type": "code",
   "execution_count": 133,
   "metadata": {},
   "outputs": [
    {
     "name": "stdout",
     "output_type": "stream",
     "text": [
      "<class 'pandas.core.frame.DataFrame'>\n",
      "RangeIndex: 395 entries, 0 to 394\n",
      "Data columns (total 30 columns):\n",
      " #   Column               Non-Null Count  Dtype  \n",
      "---  ------               --------------  -----  \n",
      " 0   school               395 non-null    object \n",
      " 1   sex                  395 non-null    object \n",
      " 2   age                  395 non-null    int64  \n",
      " 3   address              378 non-null    object \n",
      " 4   famsize              368 non-null    object \n",
      " 5   Pstatus              350 non-null    object \n",
      " 6   Medu                 392 non-null    float64\n",
      " 7   Fedu                 371 non-null    float64\n",
      " 8   Mjob                 376 non-null    object \n",
      " 9   Fjob                 359 non-null    object \n",
      " 10  reason               378 non-null    object \n",
      " 11  guardian             364 non-null    object \n",
      " 12  traveltime           367 non-null    float64\n",
      " 13  studytime            388 non-null    float64\n",
      " 14  failures             373 non-null    float64\n",
      " 15  schoolsup            386 non-null    object \n",
      " 16  famsup               356 non-null    object \n",
      " 17  paid                 355 non-null    object \n",
      " 18  activities           381 non-null    object \n",
      " 19  nursery              379 non-null    object \n",
      " 20  studytime, granular  388 non-null    float64\n",
      " 21  higher               375 non-null    object \n",
      " 22  internet             361 non-null    object \n",
      " 23  romantic             364 non-null    object \n",
      " 24  famrel               368 non-null    float64\n",
      " 25  freetime             384 non-null    float64\n",
      " 26  goout                387 non-null    float64\n",
      " 27  health               380 non-null    float64\n",
      " 28  absences             383 non-null    float64\n",
      " 29  score                389 non-null    float64\n",
      "dtypes: float64(12), int64(1), object(17)\n",
      "memory usage: 92.7+ KB\n"
     ]
    }
   ],
   "source": [
    "students.info()"
   ]
  },
  {
   "cell_type": "code",
   "execution_count": 134,
   "metadata": {},
   "outputs": [],
   "source": [
    "# Introduce a function for analysis of categorical data\n",
    "\n",
    "def categorical(column_name):\n",
    "    # Existing values and their counts\n",
    "    values_series = students[column_name].value_counts()\n",
    "    \n",
    "    # Number of missing values and their percentage in the dataframe\n",
    "    nan_count = len(students) - values_series.sum()\n",
    "    print('NaNs in the column: {}; {:.0f}% from total'.format(nan_count, (nan_count / len(students)) * 100))\n",
    "    \n",
    "    # Find the most frequent value\n",
    "    print('The most frequent value is {}; {:.0f}% of total non-null'.format(values_series.index[0],\n",
    "                                                                            (values_series.values[0] / values_series.sum()) * 100))\n",
    "    print(values_series)"
   ]
  },
  {
   "cell_type": "code",
   "execution_count": 135,
   "metadata": {},
   "outputs": [],
   "source": [
    "# Introduce a function for analysis of numeric data\n",
    "\n",
    "def numeric(column_name, bins=5):\n",
    "    headers = ['STATISTICS', 'OUTLIERS', 'NANs', 'HISTOGRAM']\n",
    "    \n",
    "    # Parameter summary\n",
    "    print(f'{headers[0]:=^20}')\n",
    "    summary = students[column_name].describe()\n",
    "    print(summary)\n",
    "    \n",
    "    # Interquartile range\n",
    "    q1 = summary['25%']\n",
    "    q3 = summary['75%']\n",
    "    iqr = q3 - q1\n",
    "    print('Interquartile range is {}; non-outlier are from {} to {}'.format(iqr, q1 - iqr*1.5, q3 + iqr*1.5))\n",
    "    \n",
    "    # Find outliers according to the formula q3,1 +- 1.5 * IQR\n",
    "    print(f'\\n{headers[1]:=^20}')\n",
    "    outliers = students[(students[column_name] > q3 + iqr*1.5) | (students[column_name] < q1 - iqr*1.5)]\n",
    "    print('{} outlier(s):'.format(len(outliers)))\n",
    "    print(outliers)\n",
    "    \n",
    "    # Number of missing values and their percentage in the dataframe\n",
    "    print(f'\\n{headers[2]:=^20}')\n",
    "    print('NaNs in the column: {}; {:.0f}% from total'.format(len(students) - summary['count'],\n",
    "                                                              ((len(students) - summary['count']) / len(students)) * 100))\n",
    "    \n",
    "    # Find the most frequent value\n",
    "    moda = students[column_name].mode().values[0]\n",
    "    print('The most frequent value is {}; {:.0f}% of total non-null'.format(moda,\n",
    "                                                                            (len(students[students[column_name]==moda]) / summary['count']) * 100))\n",
    "    \n",
    "    # Histogram\n",
    "    print(f'\\n{headers[3]:=^20}')\n",
    "    students[column_name].hist(bins=bins)"
   ]
  },
  {
   "cell_type": "markdown",
   "metadata": {},
   "source": [
    "### school"
   ]
  },
  {
   "cell_type": "code",
   "execution_count": 136,
   "metadata": {},
   "outputs": [
    {
     "data": {
      "text/plain": [
       "GP    349\n",
       "MS     46\n",
       "Name: school, dtype: int64"
      ]
     },
     "execution_count": 136,
     "metadata": {},
     "output_type": "execute_result"
    }
   ],
   "source": [
    "students['school'].value_counts()"
   ]
  },
  {
   "cell_type": "markdown",
   "metadata": {},
   "source": [
    "### sex"
   ]
  },
  {
   "cell_type": "code",
   "execution_count": 137,
   "metadata": {},
   "outputs": [
    {
     "data": {
      "text/plain": [
       "F    208\n",
       "M    187\n",
       "Name: sex, dtype: int64"
      ]
     },
     "execution_count": 137,
     "metadata": {},
     "output_type": "execute_result"
    }
   ],
   "source": [
    "students['sex'].value_counts()"
   ]
  },
  {
   "cell_type": "markdown",
   "metadata": {},
   "source": [
    "### age"
   ]
  },
  {
   "cell_type": "code",
   "execution_count": 138,
   "metadata": {},
   "outputs": [
    {
     "name": "stdout",
     "output_type": "stream",
     "text": [
      "=====STATISTICS=====\n",
      "count    395.000000\n",
      "mean      16.696203\n",
      "std        1.276043\n",
      "min       15.000000\n",
      "25%       16.000000\n",
      "50%       17.000000\n",
      "75%       18.000000\n",
      "max       22.000000\n",
      "Name: age, dtype: float64\n",
      "Interquartile range is 2.0; non-outlier are from 13.0 to 21.0\n",
      "\n",
      "======OUTLIERS======\n",
      "1 outlier(s):\n",
      "    school sex  age address famsize Pstatus  Medu  Fedu      Mjob      Fjob  \\\n",
      "247     GP   M   22       U     GT3       T   3.0   1.0  services  services   \n",
      "\n",
      "     ... studytime, granular higher  internet  romantic  famrel freetime  \\\n",
      "247  ...                -3.0     no       yes       yes     5.0      4.0   \n",
      "\n",
      "    goout health absences score  \n",
      "247   5.0    1.0     16.0  40.0  \n",
      "\n",
      "[1 rows x 30 columns]\n",
      "\n",
      "========NANs========\n",
      "NaNs in the column: 0.0; 0% from total\n",
      "The most frequent value is 16; 26% of total non-null\n",
      "\n",
      "=====HISTOGRAM======\n"
     ]
    },
    {
     "data": {
      "image/png": "[encoded data removed]",
      "text/plain": [
       "<Figure size 432x288 with 1 Axes>"
      ]
     },
     "metadata": {
      "needs_background": "light"
     },
     "output_type": "display_data"
    }
   ],
   "source": [
    "numeric('age', bins=8)"
   ]
  },
  {
   "cell_type": "markdown",
   "metadata": {},
   "source": [
    "Formally, age 22 is outlier becuase 22 > q3 + 1.5 * IQR, but it's only 1 year more from the previous value and doesn't look like an impossible value, so we'd better leave it in the dataset."
   ]
  },
  {
   "cell_type": "markdown",
   "metadata": {},
   "source": [
    "### address"
   ]
  },
  {
   "cell_type": "code",
   "execution_count": 139,
   "metadata": {},
   "outputs": [
    {
     "name": "stdout",
     "output_type": "stream",
     "text": [
      "NaNs in the column: 17; 4% from total\n",
      "The most frequent value is U; 78% of total non-null\n",
      "U    295\n",
      "R     83\n",
      "Name: address, dtype: int64\n"
     ]
    }
   ],
   "source": [
    "categorical('address')"
   ]
  },
  {
   "cell_type": "markdown",
   "metadata": {},
   "source": [
    "Replace 4% of NaN values with the most frequent value ('U')."
   ]
  },
  {
   "cell_type": "code",
   "execution_count": 140,
   "metadata": {},
   "outputs": [
    {
     "name": "stdout",
     "output_type": "stream",
     "text": [
      "NaNs in the column: 0; 0% from total\n",
      "The most frequent value is U; 79% of total non-null\n",
      "U    312\n",
      "R     83\n",
      "Name: address, dtype: int64\n"
     ]
    }
   ],
   "source": [
    "students['address'].fillna('U', inplace=True)\n",
    "categorical('address')"
   ]
  },
  {
   "cell_type": "markdown",
   "metadata": {},
   "source": [
    "### famsize"
   ]
  },
  {
   "cell_type": "code",
   "execution_count": 141,
   "metadata": {},
   "outputs": [
    {
     "name": "stdout",
     "output_type": "stream",
     "text": [
      "NaNs in the column: 27; 7% from total\n",
      "The most frequent value is GT3; 71% of total non-null\n",
      "GT3    261\n",
      "LE3    107\n",
      "Name: famsize, dtype: int64\n"
     ]
    }
   ],
   "source": [
    "categorical('famsize')"
   ]
  },
  {
   "cell_type": "markdown",
   "metadata": {},
   "source": [
    "Replace 7% of NaN values with the most frequent value ('GT3')."
   ]
  },
  {
   "cell_type": "code",
   "execution_count": 142,
   "metadata": {},
   "outputs": [
    {
     "name": "stdout",
     "output_type": "stream",
     "text": [
      "NaNs in the column: 0; 0% from total\n",
      "The most frequent value is GT3; 73% of total non-null\n",
      "GT3    288\n",
      "LE3    107\n",
      "Name: famsize, dtype: int64\n"
     ]
    }
   ],
   "source": [
    "students['famsize'].fillna('GT3', inplace=True)\n",
    "categorical('famsize')"
   ]
  },
  {
   "cell_type": "markdown",
   "metadata": {},
   "source": [
    "### Pstatus"
   ]
  },
  {
   "cell_type": "code",
   "execution_count": 143,
   "metadata": {},
   "outputs": [
    {
     "name": "stdout",
     "output_type": "stream",
     "text": [
      "NaNs in the column: 45; 11% from total\n",
      "The most frequent value is T; 90% of total non-null\n",
      "T    314\n",
      "A     36\n",
      "Name: Pstatus, dtype: int64\n"
     ]
    }
   ],
   "source": [
    "categorical('Pstatus')"
   ]
  },
  {
   "cell_type": "markdown",
   "metadata": {},
   "source": [
    "Replace 11% of NaN values with the most frequent value ('T')."
   ]
  },
  {
   "cell_type": "code",
   "execution_count": 144,
   "metadata": {},
   "outputs": [
    {
     "name": "stdout",
     "output_type": "stream",
     "text": [
      "NaNs in the column: 0; 0% from total\n",
      "The most frequent value is T; 91% of total non-null\n",
      "T    359\n",
      "A     36\n",
      "Name: Pstatus, dtype: int64\n"
     ]
    }
   ],
   "source": [
    "students['Pstatus'].fillna('T', inplace=True)\n",
    "categorical('Pstatus')"
   ]
  },
  {
   "cell_type": "markdown",
   "metadata": {},
   "source": [
    "### Medu"
   ]
  },
  {
   "cell_type": "markdown",
   "metadata": {},
   "source": [
    "Despite the fact that Medu is represented by integers, it's in fact categorical data, becuase it has limited number of discreet categories (0, 1, 2, 3, 4). Let's transfer the type to 'category' and analyze the parameter as categorical."
   ]
  },
  {
   "cell_type": "code",
   "execution_count": 145,
   "metadata": {},
   "outputs": [
    {
     "name": "stdout",
     "output_type": "stream",
     "text": [
      "NaNs in the column: 3; 1% from total\n",
      "The most frequent value is 4.0; 33% of total non-null\n",
      "4.0    131\n",
      "2.0    102\n",
      "3.0     97\n",
      "1.0     59\n",
      "0.0      3\n",
      "Name: Medu, dtype: int64\n"
     ]
    }
   ],
   "source": [
    "students['Medu'] = students['Medu'].astype('category')\n",
    "categorical('Medu')"
   ]
  },
  {
   "cell_type": "markdown",
   "metadata": {},
   "source": [
    "Replace 3 NaN values with the most frequent value (4)."
   ]
  },
  {
   "cell_type": "code",
   "execution_count": 146,
   "metadata": {},
   "outputs": [
    {
     "name": "stdout",
     "output_type": "stream",
     "text": [
      "NaNs in the column: 0; 0% from total\n",
      "The most frequent value is 4.0; 34% of total non-null\n",
      "4.0    134\n",
      "2.0    102\n",
      "3.0     97\n",
      "1.0     59\n",
      "0.0      3\n",
      "Name: Medu, dtype: int64\n"
     ]
    }
   ],
   "source": [
    "students['Medu'].fillna(4, inplace=True)\n",
    "categorical('Medu')"
   ]
  },
  {
   "cell_type": "markdown",
   "metadata": {},
   "source": [
    "### Fedu"
   ]
  },
  {
   "cell_type": "markdown",
   "metadata": {},
   "source": [
    "Despite the fact that Fedu is represented by integers, it's in fact categorical data, becuase it has limited number of discreet categories (0, 1, 2, 3, 4). Let's transfer the type to 'category' and analyze the parameter as categorical."
   ]
  },
  {
   "cell_type": "code",
   "execution_count": 147,
   "metadata": {},
   "outputs": [
    {
     "name": "stdout",
     "output_type": "stream",
     "text": [
      "NaNs in the column: 24; 6% from total\n",
      "The most frequent value is 2.0; 29% of total non-null\n",
      "2.0     106\n",
      "3.0      96\n",
      "4.0      88\n",
      "1.0      78\n",
      "0.0       2\n",
      "40.0      1\n",
      "Name: Fedu, dtype: int64\n"
     ]
    }
   ],
   "source": [
    "students['Fedu'] = students['Fedu'].astype('category')\n",
    "categorical('Fedu')"
   ]
  },
  {
   "cell_type": "markdown",
   "metadata": {},
   "source": [
    "We have an outlier 40 which is mostly likely a typo, so we replace it with 4.\n",
    "\n",
    "Replace 6% of NaN values with the most frequent value (2)."
   ]
  },
  {
   "cell_type": "code",
   "execution_count": 148,
   "metadata": {},
   "outputs": [
    {
     "name": "stdout",
     "output_type": "stream",
     "text": [
      "NaNs in the column: 0; 0% from total\n",
      "The most frequent value is 2.0; 33% of total non-null\n",
      "2.0    130\n",
      "3.0     96\n",
      "4.0     89\n",
      "1.0     78\n",
      "0.0      2\n",
      "Name: Fedu, dtype: int64\n"
     ]
    }
   ],
   "source": [
    "students['Fedu'].replace(40, 4, inplace=True)\n",
    "students['Fedu'].fillna(2, inplace=True)\n",
    "categorical('Fedu')"
   ]
  },
  {
   "cell_type": "markdown",
   "metadata": {},
   "source": [
    "### Mjob"
   ]
  },
  {
   "cell_type": "code",
   "execution_count": 149,
   "metadata": {},
   "outputs": [
    {
     "name": "stdout",
     "output_type": "stream",
     "text": [
      "NaNs in the column: 19; 5% from total\n",
      "The most frequent value is other; 35% of total non-null\n",
      "other       133\n",
      "services     98\n",
      "at_home      58\n",
      "teacher      55\n",
      "health       32\n",
      "Name: Mjob, dtype: int64\n"
     ]
    }
   ],
   "source": [
    "categorical('Mjob')"
   ]
  },
  {
   "cell_type": "markdown",
   "metadata": {},
   "source": [
    "Replace 5% of NaN values with 'other'."
   ]
  },
  {
   "cell_type": "code",
   "execution_count": 150,
   "metadata": {},
   "outputs": [
    {
     "name": "stdout",
     "output_type": "stream",
     "text": [
      "NaNs in the column: 0; 0% from total\n",
      "The most frequent value is other; 38% of total non-null\n",
      "other       152\n",
      "services     98\n",
      "at_home      58\n",
      "teacher      55\n",
      "health       32\n",
      "Name: Mjob, dtype: int64\n"
     ]
    }
   ],
   "source": [
    "students['Mjob'].fillna('other', inplace=True)\n",
    "categorical('Mjob')"
   ]
  },
  {
   "cell_type": "markdown",
   "metadata": {},
   "source": [
    "### Fjob"
   ]
  },
  {
   "cell_type": "code",
   "execution_count": 151,
   "metadata": {},
   "outputs": [
    {
     "name": "stdout",
     "output_type": "stream",
     "text": [
      "NaNs in the column: 36; 9% from total\n",
      "The most frequent value is other; 55% of total non-null\n",
      "other       197\n",
      "services    102\n",
      "teacher      29\n",
      "at_home      16\n",
      "health       15\n",
      "Name: Fjob, dtype: int64\n"
     ]
    }
   ],
   "source": [
    "categorical('Fjob')"
   ]
  },
  {
   "cell_type": "markdown",
   "metadata": {},
   "source": [
    "Replace 9% of NaN values with 'other'."
   ]
  },
  {
   "cell_type": "code",
   "execution_count": 152,
   "metadata": {},
   "outputs": [
    {
     "name": "stdout",
     "output_type": "stream",
     "text": [
      "NaNs in the column: 0; 0% from total\n",
      "The most frequent value is other; 59% of total non-null\n",
      "other       233\n",
      "services    102\n",
      "teacher      29\n",
      "at_home      16\n",
      "health       15\n",
      "Name: Fjob, dtype: int64\n"
     ]
    }
   ],
   "source": [
    "students['Fjob'].fillna('other', inplace=True)\n",
    "categorical('Fjob')"
   ]
  },
  {
   "cell_type": "markdown",
   "metadata": {},
   "source": [
    "### reason"
   ]
  },
  {
   "cell_type": "code",
   "execution_count": 153,
   "metadata": {},
   "outputs": [
    {
     "name": "stdout",
     "output_type": "stream",
     "text": [
      "NaNs in the column: 17; 4% from total\n",
      "The most frequent value is course; 36% of total non-null\n",
      "course        137\n",
      "home          104\n",
      "reputation    103\n",
      "other          34\n",
      "Name: reason, dtype: int64\n"
     ]
    }
   ],
   "source": [
    "categorical('reason')"
   ]
  },
  {
   "cell_type": "markdown",
   "metadata": {},
   "source": [
    "Non-missing values are almost equally distributed, which is inconclusive. Let's assign the missing values to the 'other' category."
   ]
  },
  {
   "cell_type": "code",
   "execution_count": 154,
   "metadata": {},
   "outputs": [
    {
     "name": "stdout",
     "output_type": "stream",
     "text": [
      "NaNs in the column: 0; 0% from total\n",
      "The most frequent value is course; 35% of total non-null\n",
      "course        137\n",
      "home          104\n",
      "reputation    103\n",
      "other          51\n",
      "Name: reason, dtype: int64\n"
     ]
    }
   ],
   "source": [
    "students['reason'].fillna('other', inplace=True)\n",
    "categorical('reason')"
   ]
  },
  {
   "cell_type": "markdown",
   "metadata": {},
   "source": [
    "### guardian"
   ]
  },
  {
   "cell_type": "code",
   "execution_count": 155,
   "metadata": {},
   "outputs": [
    {
     "name": "stdout",
     "output_type": "stream",
     "text": [
      "NaNs in the column: 31; 8% from total\n",
      "The most frequent value is mother; 69% of total non-null\n",
      "mother    250\n",
      "father     86\n",
      "other      28\n",
      "Name: guardian, dtype: int64\n"
     ]
    }
   ],
   "source": [
    "categorical('guardian')"
   ]
  },
  {
   "cell_type": "markdown",
   "metadata": {},
   "source": [
    "We can replace 8% of missing values either with the most frequent value ('mother') or with the 'other' category. Let's assign them to 'other'."
   ]
  },
  {
   "cell_type": "code",
   "execution_count": 156,
   "metadata": {},
   "outputs": [
    {
     "name": "stdout",
     "output_type": "stream",
     "text": [
      "NaNs in the column: 0; 0% from total\n",
      "The most frequent value is mother; 63% of total non-null\n",
      "mother    250\n",
      "father     86\n",
      "other      59\n",
      "Name: guardian, dtype: int64\n"
     ]
    }
   ],
   "source": [
    "students['guardian'].fillna('other', inplace=True)\n",
    "categorical('guardian')"
   ]
  },
  {
   "cell_type": "markdown",
   "metadata": {},
   "source": [
    "### traveltime"
   ]
  },
  {
   "cell_type": "markdown",
   "metadata": {},
   "source": [
    "Despite the fact that traveltime is represented by integers, it's in fact categorical data, becuase it has limited number of discreet categories (1, 2, 3, 4). Let's transfer the type to 'category' and analyze the parameter as categorical."
   ]
  },
  {
   "cell_type": "code",
   "execution_count": 157,
   "metadata": {},
   "outputs": [
    {
     "name": "stdout",
     "output_type": "stream",
     "text": [
      "NaNs in the column: 28; 7% from total\n",
      "The most frequent value is 1.0; 66% of total non-null\n",
      "1.0    242\n",
      "2.0     96\n",
      "3.0     22\n",
      "4.0      7\n",
      "Name: traveltime, dtype: int64\n"
     ]
    }
   ],
   "source": [
    "students['traveltime'] = students['traveltime'].astype('category')\n",
    "categorical('traveltime')"
   ]
  },
  {
   "cell_type": "markdown",
   "metadata": {},
   "source": [
    "Replace 7% of missing values with the most frequent value (1)."
   ]
  },
  {
   "cell_type": "code",
   "execution_count": 158,
   "metadata": {},
   "outputs": [
    {
     "name": "stdout",
     "output_type": "stream",
     "text": [
      "NaNs in the column: 0; 0% from total\n",
      "The most frequent value is 1.0; 68% of total non-null\n",
      "1.0    270\n",
      "2.0     96\n",
      "3.0     22\n",
      "4.0      7\n",
      "Name: traveltime, dtype: int64\n"
     ]
    }
   ],
   "source": [
    "students['traveltime'].fillna(1, inplace=True)\n",
    "categorical('traveltime')"
   ]
  },
  {
   "cell_type": "markdown",
   "metadata": {},
   "source": [
    "### studytime"
   ]
  },
  {
   "cell_type": "markdown",
   "metadata": {},
   "source": [
    "Despite the fact that studytime is represented by integers, it's in fact categorical data, becuase it has limited number of discreet categories (1, 2, 3, 4). Let's transfer the type to 'category' and analyze the parameter as categorical."
   ]
  },
  {
   "cell_type": "code",
   "execution_count": 159,
   "metadata": {},
   "outputs": [
    {
     "name": "stdout",
     "output_type": "stream",
     "text": [
      "NaNs in the column: 7; 2% from total\n",
      "The most frequent value is 2.0; 50% of total non-null\n",
      "2.0    194\n",
      "1.0    103\n",
      "3.0     64\n",
      "4.0     27\n",
      "Name: studytime, dtype: int64\n"
     ]
    }
   ],
   "source": [
    "students['studytime'] = students['studytime'].astype('category')\n",
    "categorical('studytime')"
   ]
  },
  {
   "cell_type": "markdown",
   "metadata": {},
   "source": [
    "Replace 7 missing values with the most frequent value (2)."
   ]
  },
  {
   "cell_type": "code",
   "execution_count": 160,
   "metadata": {},
   "outputs": [
    {
     "name": "stdout",
     "output_type": "stream",
     "text": [
      "NaNs in the column: 0; 0% from total\n",
      "The most frequent value is 2.0; 51% of total non-null\n",
      "2.0    201\n",
      "1.0    103\n",
      "3.0     64\n",
      "4.0     27\n",
      "Name: studytime, dtype: int64\n"
     ]
    }
   ],
   "source": [
    "students['studytime'].fillna(2, inplace=True)\n",
    "categorical('studytime')"
   ]
  },
  {
   "cell_type": "markdown",
   "metadata": {},
   "source": [
    "### failures"
   ]
  },
  {
   "cell_type": "code",
   "execution_count": 161,
   "metadata": {},
   "outputs": [
    {
     "name": "stdout",
     "output_type": "stream",
     "text": [
      "=====STATISTICS=====\n",
      "count    373.000000\n",
      "mean       0.337802\n",
      "std        0.743135\n",
      "min        0.000000\n",
      "25%        0.000000\n",
      "50%        0.000000\n",
      "75%        0.000000\n",
      "max        3.000000\n",
      "Name: failures, dtype: float64\n",
      "Interquartile range is 0.0; non-outlier are from 0.0 to 0.0\n",
      "\n",
      "======OUTLIERS======\n",
      "80 outlier(s):\n",
      "    school sex  age address famsize Pstatus Medu Fedu      Mjob      Fjob  \\\n",
      "2       GP   F   15       U     LE3       T  1.0  1.0   at_home     other   \n",
      "18      GP   M   17       U     GT3       T  3.0  2.0  services  services   \n",
      "25      GP   F   16       U     GT3       T  2.0  2.0  services  services   \n",
      "40      GP   F   16       U     LE3       T  2.0  2.0     other     other   \n",
      "44      GP   F   16       U     LE3       T  2.0  2.0     other     other   \n",
      "..     ...  ..  ...     ...     ...     ...  ...  ...       ...       ...   \n",
      "384     MS   M   18       R     GT3       T  4.0  2.0     other     other   \n",
      "387     MS   F   19       R     GT3       T  2.0  3.0  services     other   \n",
      "389     MS   F   18       U     GT3       T  1.0  1.0     other     other   \n",
      "390     MS   M   20       U     LE3       A  2.0  2.0  services  services   \n",
      "392     MS   M   21       R     GT3       T  1.0  1.0     other     other   \n",
      "\n",
      "     ... studytime, granular higher internet romantic  famrel freetime goout  \\\n",
      "2    ...                -6.0    yes      yes      NaN     4.0      3.0   2.0   \n",
      "18   ...                -3.0    yes      yes       no     5.0      5.0   5.0   \n",
      "25   ...                -3.0    yes      yes       no    -1.0      2.0   2.0   \n",
      "40   ...                -6.0    yes      yes      yes     3.0      3.0   3.0   \n",
      "44   ...                -6.0    yes      yes       no     4.0      3.0   3.0   \n",
      "..   ...                 ...    ...      ...      ...     ...      ...   ...   \n",
      "384  ...                -3.0    yes      NaN       no     5.0      4.0   3.0   \n",
      "387  ...                -9.0    yes      yes       no     5.0      4.0   2.0   \n",
      "389  ...                -6.0    yes      NaN       no     1.0      1.0   1.0   \n",
      "390  ...                -6.0    yes       no       no     5.0      5.0   4.0   \n",
      "392  ...                -3.0    NaN       no       no     5.0      5.0   3.0   \n",
      "\n",
      "    health absences score  \n",
      "2      3.0     10.0  50.0  \n",
      "18     5.0     16.0  25.0  \n",
      "25     5.0     14.0  40.0  \n",
      "40     3.0     25.0  55.0  \n",
      "44     5.0     14.0  45.0  \n",
      "..     ...      ...   ...  \n",
      "384    3.0     14.0  25.0  \n",
      "387    5.0      0.0   0.0  \n",
      "389    5.0      0.0   0.0  \n",
      "390    4.0    212.0  45.0  \n",
      "392    3.0      3.0  35.0  \n",
      "\n",
      "[80 rows x 30 columns]\n",
      "\n",
      "========NANs========\n",
      "NaNs in the column: 22.0; 6% from total\n",
      "The most frequent value is 0.0; 79% of total non-null\n",
      "\n",
      "=====HISTOGRAM======\n"
     ]
    },
    {
     "data": {
      "image/png": "[encoded data removed]",
      "text/plain": [
       "<Figure size 432x288 with 1 Axes>"
      ]
     },
     "metadata": {
      "needs_background": "light"
     },
     "output_type": "display_data"
    }
   ],
   "source": [
    "numeric('failures')"
   ]
  },
  {
   "cell_type": "markdown",
   "metadata": {},
   "source": [
    "Because most of the studes have no failures any value > 0 is considered as an outlier according to the formula, however  we should not get rid of them as for us it could be a valuable indicator.\n",
    "\n",
    "Let's replace 6% of missing values with the most frequent value (0)."
   ]
  },
  {
   "cell_type": "code",
   "execution_count": 162,
   "metadata": {},
   "outputs": [
    {
     "name": "stdout",
     "output_type": "stream",
     "text": [
      "=====STATISTICS=====\n",
      "count    395.000000\n",
      "mean       0.318987\n",
      "std        0.726244\n",
      "min        0.000000\n",
      "25%        0.000000\n",
      "50%        0.000000\n",
      "75%        0.000000\n",
      "max        3.000000\n",
      "Name: failures, dtype: float64\n",
      "Interquartile range is 0.0; non-outlier are from 0.0 to 0.0\n",
      "\n",
      "======OUTLIERS======\n",
      "80 outlier(s):\n",
      "    school sex  age address famsize Pstatus Medu Fedu      Mjob      Fjob  \\\n",
      "2       GP   F   15       U     LE3       T  1.0  1.0   at_home     other   \n",
      "18      GP   M   17       U     GT3       T  3.0  2.0  services  services   \n",
      "25      GP   F   16       U     GT3       T  2.0  2.0  services  services   \n",
      "40      GP   F   16       U     LE3       T  2.0  2.0     other     other   \n",
      "44      GP   F   16       U     LE3       T  2.0  2.0     other     other   \n",
      "..     ...  ..  ...     ...     ...     ...  ...  ...       ...       ...   \n",
      "384     MS   M   18       R     GT3       T  4.0  2.0     other     other   \n",
      "387     MS   F   19       R     GT3       T  2.0  3.0  services     other   \n",
      "389     MS   F   18       U     GT3       T  1.0  1.0     other     other   \n",
      "390     MS   M   20       U     LE3       A  2.0  2.0  services  services   \n",
      "392     MS   M   21       R     GT3       T  1.0  1.0     other     other   \n",
      "\n",
      "     ... studytime, granular higher internet romantic  famrel freetime goout  \\\n",
      "2    ...                -6.0    yes      yes      NaN     4.0      3.0   2.0   \n",
      "18   ...                -3.0    yes      yes       no     5.0      5.0   5.0   \n",
      "25   ...                -3.0    yes      yes       no    -1.0      2.0   2.0   \n",
      "40   ...                -6.0    yes      yes      yes     3.0      3.0   3.0   \n",
      "44   ...                -6.0    yes      yes       no     4.0      3.0   3.0   \n",
      "..   ...                 ...    ...      ...      ...     ...      ...   ...   \n",
      "384  ...                -3.0    yes      NaN       no     5.0      4.0   3.0   \n",
      "387  ...                -9.0    yes      yes       no     5.0      4.0   2.0   \n",
      "389  ...                -6.0    yes      NaN       no     1.0      1.0   1.0   \n",
      "390  ...                -6.0    yes       no       no     5.0      5.0   4.0   \n",
      "392  ...                -3.0    NaN       no       no     5.0      5.0   3.0   \n",
      "\n",
      "    health absences score  \n",
      "2      3.0     10.0  50.0  \n",
      "18     5.0     16.0  25.0  \n",
      "25     5.0     14.0  40.0  \n",
      "40     3.0     25.0  55.0  \n",
      "44     5.0     14.0  45.0  \n",
      "..     ...      ...   ...  \n",
      "384    3.0     14.0  25.0  \n",
      "387    5.0      0.0   0.0  \n",
      "389    5.0      0.0   0.0  \n",
      "390    4.0    212.0  45.0  \n",
      "392    3.0      3.0  35.0  \n",
      "\n",
      "[80 rows x 30 columns]\n",
      "\n",
      "========NANs========\n",
      "NaNs in the column: 0.0; 0% from total\n",
      "The most frequent value is 0.0; 80% of total non-null\n",
      "\n",
      "=====HISTOGRAM======\n"
     ]
    },
    {
     "data": {
      "image/png": "[encoded data removed]",
      "text/plain": [
       "<Figure size 432x288 with 1 Axes>"
      ]
     },
     "metadata": {
      "needs_background": "light"
     },
     "output_type": "display_data"
    }
   ],
   "source": [
    "students['failures'].fillna(0, inplace=True)\n",
    "numeric('failures')"
   ]
  },
  {
   "cell_type": "markdown",
   "metadata": {},
   "source": [
    "### schoolsup"
   ]
  },
  {
   "cell_type": "code",
   "execution_count": 163,
   "metadata": {},
   "outputs": [
    {
     "name": "stdout",
     "output_type": "stream",
     "text": [
      "NaNs in the column: 9; 2% from total\n",
      "The most frequent value is no; 87% of total non-null\n",
      "no     335\n",
      "yes     51\n",
      "Name: schoolsup, dtype: int64\n"
     ]
    }
   ],
   "source": [
    "categorical('schoolsup')"
   ]
  },
  {
   "cell_type": "markdown",
   "metadata": {},
   "source": [
    "Replace 2% of missing values with the most frequent value ('no')."
   ]
  },
  {
   "cell_type": "code",
   "execution_count": 164,
   "metadata": {},
   "outputs": [
    {
     "name": "stdout",
     "output_type": "stream",
     "text": [
      "NaNs in the column: 0; 0% from total\n",
      "The most frequent value is no; 87% of total non-null\n",
      "no     344\n",
      "yes     51\n",
      "Name: schoolsup, dtype: int64\n"
     ]
    }
   ],
   "source": [
    "students['schoolsup'].fillna('no', inplace=True)\n",
    "categorical('schoolsup')"
   ]
  },
  {
   "cell_type": "markdown",
   "metadata": {},
   "source": [
    "### famsup"
   ]
  },
  {
   "cell_type": "code",
   "execution_count": 165,
   "metadata": {},
   "outputs": [
    {
     "name": "stdout",
     "output_type": "stream",
     "text": [
      "NaNs in the column: 39; 10% from total\n",
      "The most frequent value is yes; 62% of total non-null\n",
      "yes    219\n",
      "no     137\n",
      "Name: famsup, dtype: int64\n"
     ]
    }
   ],
   "source": [
    "categorical('famsup')"
   ]
  },
  {
   "cell_type": "markdown",
   "metadata": {},
   "source": [
    "The distribution of non-missing values (62% / 38%) is not conclusive enough to fill 10% of missing values with the most frequent value. Instead of that let's replace the missing values with a new category 'other'."
   ]
  },
  {
   "cell_type": "code",
   "execution_count": 166,
   "metadata": {},
   "outputs": [
    {
     "name": "stdout",
     "output_type": "stream",
     "text": [
      "NaNs in the column: 0; 0% from total\n",
      "The most frequent value is yes; 55% of total non-null\n",
      "yes      219\n",
      "no       137\n",
      "other     39\n",
      "Name: famsup, dtype: int64\n"
     ]
    }
   ],
   "source": [
    "students['famsup'].fillna('other', inplace=True)\n",
    "categorical('famsup')"
   ]
  },
  {
   "cell_type": "markdown",
   "metadata": {},
   "source": [
    "### paid"
   ]
  },
  {
   "cell_type": "code",
   "execution_count": 167,
   "metadata": {},
   "outputs": [
    {
     "name": "stdout",
     "output_type": "stream",
     "text": [
      "NaNs in the column: 40; 10% from total\n",
      "The most frequent value is no; 56% of total non-null\n",
      "no     200\n",
      "yes    155\n",
      "Name: paid, dtype: int64\n"
     ]
    }
   ],
   "source": [
    "categorical('paid')"
   ]
  },
  {
   "cell_type": "markdown",
   "metadata": {},
   "source": [
    "The distribution of non-missing values (56% / 44%) is not conclusive enough to fill 10% of missing values with the most frequent value. Instead of that let's replace the missing values with a new category 'other'."
   ]
  },
  {
   "cell_type": "code",
   "execution_count": 168,
   "metadata": {},
   "outputs": [
    {
     "name": "stdout",
     "output_type": "stream",
     "text": [
      "NaNs in the column: 0; 0% from total\n",
      "The most frequent value is no; 51% of total non-null\n",
      "no       200\n",
      "yes      155\n",
      "other     40\n",
      "Name: paid, dtype: int64\n"
     ]
    }
   ],
   "source": [
    "students['paid'].fillna('other', inplace=True)\n",
    "categorical('paid')"
   ]
  },
  {
   "cell_type": "markdown",
   "metadata": {},
   "source": [
    "### activities"
   ]
  },
  {
   "cell_type": "code",
   "execution_count": 169,
   "metadata": {},
   "outputs": [
    {
     "name": "stdout",
     "output_type": "stream",
     "text": [
      "NaNs in the column: 14; 4% from total\n",
      "The most frequent value is yes; 51% of total non-null\n",
      "yes    195\n",
      "no     186\n",
      "Name: activities, dtype: int64\n"
     ]
    }
   ],
   "source": [
    "categorical('activities')"
   ]
  },
  {
   "cell_type": "markdown",
   "metadata": {},
   "source": [
    "The distribution of non-missing values (51% / 49%) is not conclusive enough to fill 4% of missing values with the most frequent value. Instead of that let's replace the missing values with a new category 'other'."
   ]
  },
  {
   "cell_type": "code",
   "execution_count": 170,
   "metadata": {},
   "outputs": [
    {
     "name": "stdout",
     "output_type": "stream",
     "text": [
      "NaNs in the column: 0; 0% from total\n",
      "The most frequent value is yes; 49% of total non-null\n",
      "yes      195\n",
      "no       186\n",
      "other     14\n",
      "Name: activities, dtype: int64\n"
     ]
    }
   ],
   "source": [
    "students['activities'].fillna('other', inplace=True)\n",
    "categorical('activities')"
   ]
  },
  {
   "cell_type": "markdown",
   "metadata": {},
   "source": [
    "### nursery"
   ]
  },
  {
   "cell_type": "code",
   "execution_count": 171,
   "metadata": {},
   "outputs": [
    {
     "name": "stdout",
     "output_type": "stream",
     "text": [
      "NaNs in the column: 16; 4% from total\n",
      "The most frequent value is yes; 79% of total non-null\n",
      "yes    300\n",
      "no      79\n",
      "Name: nursery, dtype: int64\n"
     ]
    }
   ],
   "source": [
    "categorical('nursery')"
   ]
  },
  {
   "cell_type": "markdown",
   "metadata": {},
   "source": [
    "Replace 4% of missing data with the most frequent value ('yes')."
   ]
  },
  {
   "cell_type": "code",
   "execution_count": 172,
   "metadata": {},
   "outputs": [
    {
     "name": "stdout",
     "output_type": "stream",
     "text": [
      "NaNs in the column: 0; 0% from total\n",
      "The most frequent value is yes; 80% of total non-null\n",
      "yes    316\n",
      "no      79\n",
      "Name: nursery, dtype: int64\n"
     ]
    }
   ],
   "source": [
    "students['nursery'].fillna('yes', inplace=True)\n",
    "categorical('nursery')"
   ]
  },
  {
   "cell_type": "markdown",
   "metadata": {},
   "source": [
    "### studytime, granular"
   ]
  },
  {
   "cell_type": "code",
   "execution_count": 173,
   "metadata": {},
   "outputs": [
    {
     "data": {
      "text/plain": [
       "count    388.000000\n",
       "mean      -6.115979\n",
       "std        2.526235\n",
       "min      -12.000000\n",
       "25%       -6.000000\n",
       "50%       -6.000000\n",
       "75%       -3.000000\n",
       "max       -3.000000\n",
       "Name: studytime, granular, dtype: float64"
      ]
     },
     "execution_count": 173,
     "metadata": {},
     "output_type": "execute_result"
    },
    {
     "data": {
      "image/png": "[encoded data removed]",
      "text/plain": [
       "<Figure size 432x288 with 1 Axes>"
      ]
     },
     "metadata": {
      "needs_background": "light"
     },
     "output_type": "display_data"
    }
   ],
   "source": [
    "students['studytime, granular'].hist()\n",
    "students['studytime, granular'].describe()"
   ]
  },
  {
   "cell_type": "code",
   "execution_count": 174,
   "metadata": {},
   "outputs": [
    {
     "data": {
      "text/plain": [
       "True"
      ]
     },
     "execution_count": 174,
     "metadata": {},
     "output_type": "execute_result"
    }
   ],
   "source": [
    "# Everywhere where 'studytime, granular' isn't NaN, it's equal to 'studytime' * -3\n",
    "\n",
    "(students[~students['studytime, granular'].isna()]['studytime'].astype('int64') * -3 \\\n",
    " == students[~students['studytime, granular'].isna()]['studytime, granular']).sum() \\\n",
    "== len(students[~students['studytime, granular'].isna()])"
   ]
  },
  {
   "cell_type": "markdown",
   "metadata": {},
   "source": [
    "Studytime, granular is the same column as studytime, but multiplied by -3. It provides no additional information so let's drop it from the dataframe."
   ]
  },
  {
   "cell_type": "code",
   "execution_count": 175,
   "metadata": {},
   "outputs": [],
   "source": [
    "students.drop('studytime, granular', axis=1, inplace=True)"
   ]
  },
  {
   "cell_type": "markdown",
   "metadata": {},
   "source": [
    "### higher"
   ]
  },
  {
   "cell_type": "code",
   "execution_count": 176,
   "metadata": {},
   "outputs": [
    {
     "name": "stdout",
     "output_type": "stream",
     "text": [
      "NaNs in the column: 20; 5% from total\n",
      "The most frequent value is yes; 95% of total non-null\n",
      "yes    356\n",
      "no      19\n",
      "Name: higher, dtype: int64\n"
     ]
    }
   ],
   "source": [
    "categorical('higher')"
   ]
  },
  {
   "cell_type": "markdown",
   "metadata": {},
   "source": [
    "Replace 5% of missing data with the most frequent value ('yes')."
   ]
  },
  {
   "cell_type": "code",
   "execution_count": 177,
   "metadata": {},
   "outputs": [
    {
     "name": "stdout",
     "output_type": "stream",
     "text": [
      "NaNs in the column: 0; 0% from total\n",
      "The most frequent value is yes; 95% of total non-null\n",
      "yes    376\n",
      "no      19\n",
      "Name: higher, dtype: int64\n"
     ]
    }
   ],
   "source": [
    "students['higher'].fillna('yes', inplace=True)\n",
    "categorical('higher')"
   ]
  },
  {
   "cell_type": "markdown",
   "metadata": {},
   "source": [
    "### internet"
   ]
  },
  {
   "cell_type": "code",
   "execution_count": 178,
   "metadata": {},
   "outputs": [
    {
     "name": "stdout",
     "output_type": "stream",
     "text": [
      "NaNs in the column: 34; 9% from total\n",
      "The most frequent value is yes; 84% of total non-null\n",
      "yes    305\n",
      "no      56\n",
      "Name: internet, dtype: int64\n"
     ]
    }
   ],
   "source": [
    "categorical('internet')"
   ]
  },
  {
   "cell_type": "markdown",
   "metadata": {},
   "source": [
    "Replace 9% of missing data with the most frequent value ('yes')."
   ]
  },
  {
   "cell_type": "code",
   "execution_count": 179,
   "metadata": {},
   "outputs": [
    {
     "name": "stdout",
     "output_type": "stream",
     "text": [
      "NaNs in the column: 0; 0% from total\n",
      "The most frequent value is yes; 86% of total non-null\n",
      "yes    339\n",
      "no      56\n",
      "Name: internet, dtype: int64\n"
     ]
    }
   ],
   "source": [
    "students['internet'].fillna('yes', inplace=True)\n",
    "categorical('internet')"
   ]
  },
  {
   "cell_type": "markdown",
   "metadata": {},
   "source": [
    "### romantic"
   ]
  },
  {
   "cell_type": "code",
   "execution_count": 180,
   "metadata": {},
   "outputs": [
    {
     "name": "stdout",
     "output_type": "stream",
     "text": [
      "NaNs in the column: 31; 8% from total\n",
      "The most frequent value is no; 66% of total non-null\n",
      "no     240\n",
      "yes    124\n",
      "Name: romantic, dtype: int64\n"
     ]
    }
   ],
   "source": [
    "categorical('romantic')"
   ]
  },
  {
   "cell_type": "markdown",
   "metadata": {},
   "source": [
    "The distribution of non-missing values (66% / 34%) is not conclusive enough to fill 8% of missing values with the most frequent value. Instead of that let's replace the missing values with a new category 'other'."
   ]
  },
  {
   "cell_type": "code",
   "execution_count": 181,
   "metadata": {},
   "outputs": [
    {
     "name": "stdout",
     "output_type": "stream",
     "text": [
      "NaNs in the column: 0; 0% from total\n",
      "The most frequent value is no; 61% of total non-null\n",
      "no       240\n",
      "yes      124\n",
      "other     31\n",
      "Name: romantic, dtype: int64\n"
     ]
    }
   ],
   "source": [
    "students['romantic'].fillna('other', inplace=True)\n",
    "categorical('romantic')"
   ]
  },
  {
   "cell_type": "markdown",
   "metadata": {},
   "source": [
    "### famrel"
   ]
  },
  {
   "cell_type": "markdown",
   "metadata": {},
   "source": [
    "Despite the fact that famrel is represented by integers, it's in fact categorical data, becuase it has limited number of discreet categories (1, 2, 3, 4, 5). Let's transfer the type to 'category' and analyze the parameter as categorical."
   ]
  },
  {
   "cell_type": "code",
   "execution_count": 182,
   "metadata": {},
   "outputs": [
    {
     "name": "stdout",
     "output_type": "stream",
     "text": [
      "NaNs in the column: 27; 7% from total\n",
      "The most frequent value is 4.0; 49% of total non-null\n",
      " 4.0    182\n",
      " 5.0     99\n",
      " 3.0     62\n",
      " 2.0     17\n",
      " 1.0      7\n",
      "-1.0      1\n",
      "Name: famrel, dtype: int64\n"
     ]
    }
   ],
   "source": [
    "students['famrel'] = students['famrel'].astype('category')\n",
    "categorical('famrel')"
   ]
  },
  {
   "cell_type": "markdown",
   "metadata": {},
   "source": [
    "We have a value -1 which is not a possible option. Assuming it's a typo, let's replace it with 1.\n",
    "\n",
    "Replace 7% of NaN values with the most frequent value (4)."
   ]
  },
  {
   "cell_type": "code",
   "execution_count": 183,
   "metadata": {},
   "outputs": [
    {
     "name": "stdout",
     "output_type": "stream",
     "text": [
      "NaNs in the column: 0; 0% from total\n",
      "The most frequent value is 4.0; 53% of total non-null\n",
      "4.0    209\n",
      "5.0     99\n",
      "3.0     62\n",
      "2.0     17\n",
      "1.0      8\n",
      "Name: famrel, dtype: int64\n"
     ]
    }
   ],
   "source": [
    "students['famrel'].replace(-1, 1, inplace=True)\n",
    "students['famrel'].fillna(4, inplace=True)\n",
    "categorical('famrel')"
   ]
  },
  {
   "cell_type": "markdown",
   "metadata": {},
   "source": [
    "### freetime"
   ]
  },
  {
   "cell_type": "markdown",
   "metadata": {},
   "source": [
    "Despite the fact that freetime is represented by integers, it's in fact categorical data, becuase it has limited number of discreet categories (1, 2, 3, 4, 5). Let's transfer the type to 'category' and analyze the parameter as categorical."
   ]
  },
  {
   "cell_type": "code",
   "execution_count": 184,
   "metadata": {},
   "outputs": [
    {
     "name": "stdout",
     "output_type": "stream",
     "text": [
      "NaNs in the column: 11; 3% from total\n",
      "The most frequent value is 3.0; 40% of total non-null\n",
      "3.0    153\n",
      "4.0    112\n",
      "2.0     63\n",
      "5.0     38\n",
      "1.0     18\n",
      "Name: freetime, dtype: int64\n"
     ]
    }
   ],
   "source": [
    "students['freetime'] = students['freetime'].astype('category')\n",
    "categorical('freetime')"
   ]
  },
  {
   "cell_type": "markdown",
   "metadata": {},
   "source": [
    "Replace 2% of NaN values with the most frequent value (3)."
   ]
  },
  {
   "cell_type": "code",
   "execution_count": 185,
   "metadata": {},
   "outputs": [
    {
     "name": "stdout",
     "output_type": "stream",
     "text": [
      "NaNs in the column: 0; 0% from total\n",
      "The most frequent value is 3.0; 42% of total non-null\n",
      "3.0    164\n",
      "4.0    112\n",
      "2.0     63\n",
      "5.0     38\n",
      "1.0     18\n",
      "Name: freetime, dtype: int64\n"
     ]
    }
   ],
   "source": [
    "students['freetime'].fillna(3, inplace=True)\n",
    "categorical('freetime')"
   ]
  },
  {
   "cell_type": "markdown",
   "metadata": {},
   "source": [
    "### goout"
   ]
  },
  {
   "cell_type": "markdown",
   "metadata": {},
   "source": [
    "Despite the fact that goout is represented by integers, it's in fact categorical data, becuase it has limited number of discreet categories (1, 2, 3, 4, 5). Let's transfer the type to 'category' and analyze the parameter as categorical."
   ]
  },
  {
   "cell_type": "code",
   "execution_count": 186,
   "metadata": {},
   "outputs": [
    {
     "name": "stdout",
     "output_type": "stream",
     "text": [
      "NaNs in the column: 8; 2% from total\n",
      "The most frequent value is 3.0; 33% of total non-null\n",
      "3.0    127\n",
      "2.0    101\n",
      "4.0     84\n",
      "5.0     52\n",
      "1.0     23\n",
      "Name: goout, dtype: int64\n"
     ]
    }
   ],
   "source": [
    "students['goout'] = students['goout'].astype('category')\n",
    "categorical('goout')"
   ]
  },
  {
   "cell_type": "markdown",
   "metadata": {},
   "source": [
    "Replace 2% of NaN values with the most frequent value (3)."
   ]
  },
  {
   "cell_type": "code",
   "execution_count": 187,
   "metadata": {},
   "outputs": [
    {
     "name": "stdout",
     "output_type": "stream",
     "text": [
      "NaNs in the column: 0; 0% from total\n",
      "The most frequent value is 3.0; 34% of total non-null\n",
      "3.0    135\n",
      "2.0    101\n",
      "4.0     84\n",
      "5.0     52\n",
      "1.0     23\n",
      "Name: goout, dtype: int64\n"
     ]
    }
   ],
   "source": [
    "students['goout'].fillna(3, inplace=True)\n",
    "categorical('goout')"
   ]
  },
  {
   "cell_type": "markdown",
   "metadata": {},
   "source": [
    "### health"
   ]
  },
  {
   "cell_type": "markdown",
   "metadata": {},
   "source": [
    "Despite the fact that health is represented by integers, it's in fact categorical data, becuase it has limited number of discreet categories (1, 2, 3, 4, 5). Let's transfer the type to 'category' and analyze the parameter as categorical."
   ]
  },
  {
   "cell_type": "code",
   "execution_count": 188,
   "metadata": {},
   "outputs": [
    {
     "name": "stdout",
     "output_type": "stream",
     "text": [
      "NaNs in the column: 15; 4% from total\n",
      "The most frequent value is 5.0; 36% of total non-null\n",
      "5.0    138\n",
      "3.0     89\n",
      "4.0     63\n",
      "1.0     47\n",
      "2.0     43\n",
      "Name: health, dtype: int64\n"
     ]
    }
   ],
   "source": [
    "students['health'] = students['health'].astype('category')\n",
    "categorical('health')"
   ]
  },
  {
   "cell_type": "markdown",
   "metadata": {},
   "source": [
    "Replace 4% of NaN values with the most frequent value (5)."
   ]
  },
  {
   "cell_type": "code",
   "execution_count": 189,
   "metadata": {},
   "outputs": [
    {
     "name": "stdout",
     "output_type": "stream",
     "text": [
      "NaNs in the column: 0; 0% from total\n",
      "The most frequent value is 5.0; 39% of total non-null\n",
      "5.0    153\n",
      "3.0     89\n",
      "4.0     63\n",
      "1.0     47\n",
      "2.0     43\n",
      "Name: health, dtype: int64\n"
     ]
    }
   ],
   "source": [
    "students['health'].fillna(5, inplace=True)\n",
    "categorical('health')"
   ]
  },
  {
   "cell_type": "markdown",
   "metadata": {},
   "source": [
    "### absences"
   ]
  },
  {
   "cell_type": "code",
   "execution_count": 190,
   "metadata": {},
   "outputs": [
    {
     "name": "stdout",
     "output_type": "stream",
     "text": [
      "=====STATISTICS=====\n",
      "count    383.000000\n",
      "mean       7.279373\n",
      "std       23.465197\n",
      "min        0.000000\n",
      "25%        0.000000\n",
      "50%        4.000000\n",
      "75%        8.000000\n",
      "max      385.000000\n",
      "Name: absences, dtype: float64\n",
      "Interquartile range is 8.0; non-outlier are from -12.0 to 20.0\n",
      "\n",
      "======OUTLIERS======\n",
      "17 outlier(s):\n",
      "    school sex  age address famsize Pstatus Medu Fedu      Mjob      Fjob  \\\n",
      "40      GP   F   16       U     LE3       T  2.0  2.0     other     other   \n",
      "74      GP   F   16       U     GT3       T  3.0  3.0     other  services   \n",
      "103     GP   F   15       U     GT3       T  3.0  2.0  services     other   \n",
      "183     GP   F   17       U     LE3       T  3.0  3.0     other     other   \n",
      "198     GP   F   17       U     GT3       T  4.0  4.0  services   teacher   \n",
      "205     GP   F   17       U     GT3       T  3.0  4.0   at_home  services   \n",
      "216     GP   F   17       U     GT3       T  4.0  3.0     other     other   \n",
      "222     GP   F   16       U     GT3       T  2.0  3.0  services   teacher   \n",
      "260     GP   F   18       U     GT3       T  4.0  3.0     other     other   \n",
      "276     GP   F   18       R     GT3       A  3.0  2.0     other  services   \n",
      "277     GP   M   18       U     GT3       T  4.0  4.0     other  services   \n",
      "280     GP   M   17       U     GT3       A  4.0  2.0  services     other   \n",
      "307     GP   M   19       U     GT3       T  4.0  4.0   teacher  services   \n",
      "313     GP   F   19       U     GT3       T  3.0  2.0  services     other   \n",
      "315     GP   F   19       R     GT3       T  2.0  3.0     other     other   \n",
      "320     GP   F   17       U     GT3       A  4.0  3.0  services  services   \n",
      "390     MS   M   20       U     LE3       A  2.0  2.0  services  services   \n",
      "\n",
      "     ... nursery higher internet romantic  famrel freetime goout health  \\\n",
      "40   ...      no    yes      yes      yes     3.0      3.0   3.0    3.0   \n",
      "74   ...     yes    yes      yes       no     4.0      3.0   3.0    5.0   \n",
      "103  ...     yes    yes      yes       no     4.0      3.0   5.0    2.0   \n",
      "183  ...     yes    yes      yes      yes     5.0      3.0   3.0    1.0   \n",
      "198  ...     yes    yes      yes       no     4.0      2.0   4.0    2.0   \n",
      "205  ...     yes    yes      yes      yes     4.0      4.0   3.0    5.0   \n",
      "216  ...     yes    yes      yes      yes     3.0      4.0   5.0    1.0   \n",
      "222  ...     yes    yes      yes       no     2.0      3.0   1.0    3.0   \n",
      "260  ...     yes    yes      yes      yes     3.0      1.0   2.0    2.0   \n",
      "276  ...      no     no      yes      yes     4.0      1.0   1.0    5.0   \n",
      "277  ...     yes    yes      yes       no     3.0      2.0   4.0    3.0   \n",
      "280  ...     yes    yes      yes    other     4.0      3.0   4.0    5.0   \n",
      "307  ...     yes    yes      yes      yes     4.0      3.0   4.0    4.0   \n",
      "313  ...      no    yes      yes      yes     4.0      2.0   2.0    1.0   \n",
      "315  ...     yes    yes      yes      yes     4.0      1.0   2.0    3.0   \n",
      "320  ...     yes    yes      yes      yes     5.0      2.0   2.0    5.0   \n",
      "390  ...     yes    yes       no       no     5.0      5.0   4.0    4.0   \n",
      "\n",
      "    absences score  \n",
      "40      25.0  55.0  \n",
      "74      54.0  55.0  \n",
      "103     26.0  30.0  \n",
      "183     56.0  40.0  \n",
      "198     24.0  90.0  \n",
      "205     28.0  45.0  \n",
      "216     22.0  20.0  \n",
      "222    385.0  85.0  \n",
      "260     21.0  90.0  \n",
      "276     75.0  45.0  \n",
      "277     22.0  45.0  \n",
      "280     30.0  40.0  \n",
      "307     38.0  40.0  \n",
      "313     22.0  55.0  \n",
      "315     40.0  55.0  \n",
      "320     23.0  65.0  \n",
      "390    212.0  45.0  \n",
      "\n",
      "[17 rows x 29 columns]\n",
      "\n",
      "========NANs========\n",
      "NaNs in the column: 12.0; 3% from total\n",
      "The most frequent value is 0.0; 29% of total non-null\n",
      "\n",
      "=====HISTOGRAM======\n"
     ]
    },
    {
     "data": {
      "image/png": "[encoded data removed]",
      "text/plain": [
       "<Figure size 432x288 with 1 Axes>"
      ]
     },
     "metadata": {
      "needs_background": "light"
     },
     "output_type": "display_data"
    }
   ],
   "source": [
    "numeric('absences')"
   ]
  },
  {
   "cell_type": "markdown",
   "metadata": {},
   "source": [
    "Due to low number of absences in the dataset any value > 20 is considered as an outlier according to the formula, however we should not get rid of them as for us it could be a valuable indicator. Only values 212 and 385 look suspitious so we can drop them.\n",
    "\n",
    "Also let's replace 3% of missing values with the most frequent value (0)."
   ]
  },
  {
   "cell_type": "code",
   "execution_count": 191,
   "metadata": {},
   "outputs": [],
   "source": [
    "students = students[~students['absences'].isin((212, 385))]\n",
    "students['absences'].fillna(0, inplace=True)"
   ]
  },
  {
   "cell_type": "markdown",
   "metadata": {},
   "source": [
    "### score"
   ]
  },
  {
   "cell_type": "code",
   "execution_count": 192,
   "metadata": {},
   "outputs": [
    {
     "name": "stdout",
     "output_type": "stream",
     "text": [
      "=====STATISTICS=====\n",
      "count    387.000000\n",
      "mean      52.196382\n",
      "std       22.914748\n",
      "min        0.000000\n",
      "25%       40.000000\n",
      "50%       55.000000\n",
      "75%       70.000000\n",
      "max      100.000000\n",
      "Name: score, dtype: float64\n",
      "Interquartile range is 30.0; non-outlier are from -5.0 to 115.0\n",
      "\n",
      "======OUTLIERS======\n",
      "0 outlier(s):\n",
      "Empty DataFrame\n",
      "Columns: [school, sex, age, address, famsize, Pstatus, Medu, Fedu, Mjob, Fjob, reason, guardian, traveltime, studytime, failures, schoolsup, famsup, paid, activities, nursery, higher, internet, romantic, famrel, freetime, goout, health, absences, score]\n",
      "Index: []\n",
      "\n",
      "[0 rows x 29 columns]\n",
      "\n",
      "========NANs========\n",
      "NaNs in the column: 6.0; 2% from total\n",
      "The most frequent value is 50.0; 14% of total non-null\n",
      "\n",
      "=====HISTOGRAM======\n"
     ]
    },
    {
     "data": {
      "image/png": "[encoded data removed]",
      "text/plain": [
       "<Figure size 432x288 with 1 Axes>"
      ]
     },
     "metadata": {
      "needs_background": "light"
     },
     "output_type": "display_data"
    }
   ],
   "source": [
    "numeric('score')"
   ]
  },
  {
   "cell_type": "markdown",
   "metadata": {},
   "source": [
    "Score is the value that we want to predict. If score is missing we can't use the data to train our model, so we have to drop all the lines of the dataframe with missing score."
   ]
  },
  {
   "cell_type": "code",
   "execution_count": 193,
   "metadata": {},
   "outputs": [],
   "source": [
    "students.dropna(subset=['score'], inplace=True)"
   ]
  },
  {
   "cell_type": "markdown",
   "metadata": {},
   "source": [
    "Let's once again review our dataframe in order to confirm that it has no missing values and the data types are correct."
   ]
  },
  {
   "cell_type": "code",
   "execution_count": 194,
   "metadata": {},
   "outputs": [
    {
     "name": "stdout",
     "output_type": "stream",
     "text": [
      "<class 'pandas.core.frame.DataFrame'>\n",
      "Int64Index: 387 entries, 0 to 394\n",
      "Data columns (total 29 columns):\n",
      " #   Column      Non-Null Count  Dtype   \n",
      "---  ------      --------------  -----   \n",
      " 0   school      387 non-null    object  \n",
      " 1   sex         387 non-null    object  \n",
      " 2   age         387 non-null    int64   \n",
      " 3   address     387 non-null    object  \n",
      " 4   famsize     387 non-null    object  \n",
      " 5   Pstatus     387 non-null    object  \n",
      " 6   Medu        387 non-null    category\n",
      " 7   Fedu        387 non-null    category\n",
      " 8   Mjob        387 non-null    object  \n",
      " 9   Fjob        387 non-null    object  \n",
      " 10  reason      387 non-null    object  \n",
      " 11  guardian    387 non-null    object  \n",
      " 12  traveltime  387 non-null    category\n",
      " 13  studytime   387 non-null    category\n",
      " 14  failures    387 non-null    float64 \n",
      " 15  schoolsup   387 non-null    object  \n",
      " 16  famsup      387 non-null    object  \n",
      " 17  paid        387 non-null    object  \n",
      " 18  activities  387 non-null    object  \n",
      " 19  nursery     387 non-null    object  \n",
      " 20  higher      387 non-null    object  \n",
      " 21  internet    387 non-null    object  \n",
      " 22  romantic    387 non-null    object  \n",
      " 23  famrel      387 non-null    category\n",
      " 24  freetime    387 non-null    category\n",
      " 25  goout       387 non-null    category\n",
      " 26  health      387 non-null    category\n",
      " 27  absences    387 non-null    float64 \n",
      " 28  score       387 non-null    float64 \n",
      "dtypes: category(8), float64(3), int64(1), object(17)\n",
      "memory usage: 71.1+ KB\n"
     ]
    }
   ],
   "source": [
    "students.info()"
   ]
  },
  {
   "cell_type": "markdown",
   "metadata": {},
   "source": [
    "## Correlation analysis of numeric parameters"
   ]
  },
  {
   "cell_type": "code",
   "execution_count": 195,
   "metadata": {},
   "outputs": [],
   "source": [
    "students_numeric = students[['age', 'failures', 'absences', 'score']]"
   ]
  },
  {
   "cell_type": "code",
   "execution_count": 196,
   "metadata": {},
   "outputs": [
    {
     "data": {
      "text/plain": [
       "<seaborn.axisgrid.PairGrid at 0x262217e4310>"
      ]
     },
     "execution_count": 196,
     "metadata": {},
     "output_type": "execute_result"
    },
    {
     "data": {
      "image/png": "[encoded data removed]",
      "text/plain": [
       "<Figure size 720x720 with 20 Axes>"
      ]
     },
     "metadata": {
      "needs_background": "light"
     },
     "output_type": "display_data"
    }
   ],
   "source": [
    "sns.pairplot(students_numeric, kind = 'reg')"
   ]
  },
  {
   "cell_type": "code",
   "execution_count": 197,
   "metadata": {},
   "outputs": [
    {
     "data": {
      "text/html": [
       "<div>\n",
       "<style scoped>\n",
       "    .dataframe tbody tr th:only-of-type {\n",
       "        vertical-align: middle;\n",
       "    }\n",
       "\n",
       "    .dataframe tbody tr th {\n",
       "        vertical-align: top;\n",
       "    }\n",
       "\n",
       "    .dataframe thead th {\n",
       "        text-align: right;\n",
       "    }\n",
       "</style>\n",
       "<table border=\"1\" class=\"dataframe\">\n",
       "  <thead>\n",
       "    <tr style=\"text-align: right;\">\n",
       "      <th></th>\n",
       "      <th>age</th>\n",
       "      <th>failures</th>\n",
       "      <th>absences</th>\n",
       "      <th>score</th>\n",
       "    </tr>\n",
       "  </thead>\n",
       "  <tbody>\n",
       "    <tr>\n",
       "      <th>age</th>\n",
       "      <td>1.000000</td>\n",
       "      <td>0.192816</td>\n",
       "      <td>0.168017</td>\n",
       "      <td>-0.153488</td>\n",
       "    </tr>\n",
       "    <tr>\n",
       "      <th>failures</th>\n",
       "      <td>0.192816</td>\n",
       "      <td>1.000000</td>\n",
       "      <td>0.060343</td>\n",
       "      <td>-0.337138</td>\n",
       "    </tr>\n",
       "    <tr>\n",
       "      <th>absences</th>\n",
       "      <td>0.168017</td>\n",
       "      <td>0.060343</td>\n",
       "      <td>1.000000</td>\n",
       "      <td>0.023926</td>\n",
       "    </tr>\n",
       "    <tr>\n",
       "      <th>score</th>\n",
       "      <td>-0.153488</td>\n",
       "      <td>-0.337138</td>\n",
       "      <td>0.023926</td>\n",
       "      <td>1.000000</td>\n",
       "    </tr>\n",
       "  </tbody>\n",
       "</table>\n",
       "</div>"
      ],
      "text/plain": [
       "               age  failures  absences     score\n",
       "age       1.000000  0.192816  0.168017 -0.153488\n",
       "failures  0.192816  1.000000  0.060343 -0.337138\n",
       "absences  0.168017  0.060343  1.000000  0.023926\n",
       "score    -0.153488 -0.337138  0.023926  1.000000"
      ]
     },
     "execution_count": 197,
     "metadata": {},
     "output_type": "execute_result"
    }
   ],
   "source": [
    "students_numeric.corr()"
   ]
  },
  {
   "cell_type": "markdown",
   "metadata": {},
   "source": [
    "We can't see any significant correlation among parameters, so we'll take all of them to the final dataframe for a model."
   ]
  },
  {
   "cell_type": "markdown",
   "metadata": {},
   "source": [
    "## Analysis of categorical parameters and Student's t-test for finding statistical significance"
   ]
  },
  {
   "cell_type": "code",
   "execution_count": 198,
   "metadata": {},
   "outputs": [],
   "source": [
    "def get_boxplot(column):\n",
    "    fig, ax = plt.subplots(figsize = (14, 4))\n",
    "    sns.boxplot(x=column, y='score', \n",
    "                data=students.loc[students.loc[:, column].isin(students.loc[:, column].value_counts().index[:10])],\n",
    "                ax=ax)\n",
    "    plt.xticks(rotation=45)\n",
    "    ax.set_title('Boxplot for ' + column)\n",
    "    plt.show()"
   ]
  },
  {
   "cell_type": "code",
   "execution_count": 199,
   "metadata": {},
   "outputs": [
    {
     "data": {
      "image/png": "[encoded data removed]",
      "text/plain": [
       "<Figure size 1008x288 with 1 Axes>"
      ]
     },
     "metadata": {
      "needs_background": "light"
     },
     "output_type": "display_data"
    },
    {
     "data": {
      "image/png": "[encoded data removed]",
      "text/plain": [
       "<Figure size 1008x288 with 1 Axes>"
      ]
     },
     "metadata": {
      "needs_background": "light"
     },
     "output_type": "display_data"
    },
    {
     "data": {
      "image/png": "[encoded data removed]",
      "text/plain": [
       "<Figure size 1008x288 with 1 Axes>"
      ]
     },
     "metadata": {
      "needs_background": "light"
     },
     "output_type": "display_data"
    },
    {
     "data": {
      "image/png": "[encoded data removed]",
      "text/plain": [
       "<Figure size 1008x288 with 1 Axes>"
      ]
     },
     "metadata": {
      "needs_background": "light"
     },
     "output_type": "display_data"
    },
    {
     "data": {
      "image/png": "[encoded data removed]",
      "text/plain": [
       "<Figure size 1008x288 with 1 Axes>"
      ]
     },
     "metadata": {
      "needs_background": "light"
     },
     "output_type": "display_data"
    },
    {
     "data": {
      "image/png": "[encoded data removed]",
      "text/plain": [
       "<Figure size 1008x288 with 1 Axes>"
      ]
     },
     "metadata": {
      "needs_background": "light"
     },
     "output_type": "display_data"
    },
    {
     "data": {
      "image/png": "[encoded data removed]",
      "text/plain": [
       "<Figure size 1008x288 with 1 Axes>"
      ]
     },
     "metadata": {
      "needs_background": "light"
     },
     "output_type": "display_data"
    },
    {
     "data": {
      "image/png": "[encoded data removed]",
      "text/plain": [
       "<Figure size 1008x288 with 1 Axes>"
      ]
     },
     "metadata": {
      "needs_background": "light"
     },
     "output_type": "display_data"
    },
    {
     "data": {
      "image/png": "[encoded data removed]",
      "text/plain": [
       "<Figure size 1008x288 with 1 Axes>"
      ]
     },
     "metadata": {
      "needs_background": "light"
     },
     "output_type": "display_data"
    },
    {
     "data": {
      "image/png": "[encoded data removed]",
      "text/plain": [
       "<Figure size 1008x288 with 1 Axes>"
      ]
     },
     "metadata": {
      "needs_background": "light"
     },
     "output_type": "display_data"
    },
    {
     "data": {
      "image/png": "[encoded data removed]",
      "text/plain": [
       "<Figure size 1008x288 with 1 Axes>"
      ]
     },
     "metadata": {
      "needs_background": "light"
     },
     "output_type": "display_data"
    },
    {
     "data": {
      "image/png": "[encoded data removed]",
      "text/plain": [
       "<Figure size 1008x288 with 1 Axes>"
      ]
     },
     "metadata": {
      "needs_background": "light"
     },
     "output_type": "display_data"
    },
    {
     "data": {
      "image/png": "[encoded data removed]",
      "text/plain": [
       "<Figure size 1008x288 with 1 Axes>"
      ]
     },
     "metadata": {
      "needs_background": "light"
     },
     "output_type": "display_data"
    },
    {
     "data": {
      "image/png": "[encoded data removed]",
      "text/plain": [
       "<Figure size 1008x288 with 1 Axes>"
      ]
     },
     "metadata": {
      "needs_background": "light"
     },
     "output_type": "display_data"
    },
    {
     "data": {
      "image/png": "[encoded data removed]",
      "text/plain": [
       "<Figure size 1008x288 with 1 Axes>"
      ]
     },
     "metadata": {
      "needs_background": "light"
     },
     "output_type": "display_data"
    },
    {
     "data": {
      "image/png": "[encoded data removed]",
      "text/plain": [
       "<Figure size 1008x288 with 1 Axes>"
      ]
     },
     "metadata": {
      "needs_background": "light"
     },
     "output_type": "display_data"
    },
    {
     "data": {
      "image/png": "[encoded data removed]",
      "text/plain": [
       "<Figure size 1008x288 with 1 Axes>"
      ]
     },
     "metadata": {
      "needs_background": "light"
     },
     "output_type": "display_data"
    },
    {
     "data": {
      "image/png": "[encoded data removed]",
      "text/plain": [
       "<Figure size 1008x288 with 1 Axes>"
      ]
     },
     "metadata": {
      "needs_background": "light"
     },
     "output_type": "display_data"
    },
    {
     "data": {
      "image/png": "[encoded data removed]",
      "text/plain": [
       "<Figure size 1008x288 with 1 Axes>"
      ]
     },
     "metadata": {
      "needs_background": "light"
     },
     "output_type": "display_data"
    },
    {
     "data": {
      "image/png": "[encoded data removed]",
      "text/plain": [
       "<Figure size 1008x288 with 1 Axes>"
      ]
     },
     "metadata": {
      "needs_background": "light"
     },
     "output_type": "display_data"
    },
    {
     "data": {
      "image/png": "[encoded data removed]",
      "text/plain": [
       "<Figure size 1008x288 with 1 Axes>"
      ]
     },
     "metadata": {
      "needs_background": "light"
     },
     "output_type": "display_data"
    },
    {
     "data": {
      "image/png": "[encoded data removed]",
      "text/plain": [
       "<Figure size 1008x288 with 1 Axes>"
      ]
     },
     "metadata": {
      "needs_background": "light"
     },
     "output_type": "display_data"
    },
    {
     "data": {
      "image/png": "[encoded data removed]",
      "text/plain": [
       "<Figure size 1008x288 with 1 Axes>"
      ]
     },
     "metadata": {
      "needs_background": "light"
     },
     "output_type": "display_data"
    },
    {
     "data": {
      "image/png": "[encoded data removed]",
      "text/plain": [
       "<Figure size 1008x288 with 1 Axes>"
      ]
     },
     "metadata": {
      "needs_background": "light"
     },
     "output_type": "display_data"
    },
    {
     "data": {
      "image/png": "[encoded data removed]",
      "text/plain": [
       "<Figure size 1008x288 with 1 Axes>"
      ]
     },
     "metadata": {
      "needs_background": "light"
     },
     "output_type": "display_data"
    }
   ],
   "source": [
    "for col in ['school', 'sex', 'address', 'famsize', 'Pstatus', 'Medu', 'Fedu',\n",
    "            'Mjob', 'Fjob', 'reason', 'guardian', 'traveltime', 'studytime',\n",
    "            'schoolsup', 'famsup', 'paid', 'activities', 'nursery', 'higher',\n",
    "            'internet', 'romantic', 'famrel', 'freetime', 'goout', 'health']:\n",
    "    get_boxplot(col)"
   ]
  },
  {
   "cell_type": "code",
   "execution_count": 200,
   "metadata": {},
   "outputs": [],
   "source": [
    "def get_stat_dif(column):\n",
    "    cols = students.loc[:, column].value_counts().index\n",
    "    combinations_all = list(combinations(cols, 2))\n",
    "    for comb in combinations_all:\n",
    "        if ttest_ind(students.loc[students.loc[:, column] == comb[0], 'score'], \n",
    "                     students.loc[students.loc[:, column] == comb[1], 'score']).pvalue \\\n",
    "        <= 0.05/len(combinations_all): # Account for Bonferroni correction\n",
    "            print('Found statistically significant differences for the column', column)\n",
    "            break"
   ]
  },
  {
   "cell_type": "code",
   "execution_count": 201,
   "metadata": {},
   "outputs": [
    {
     "name": "stdout",
     "output_type": "stream",
     "text": [
      "Found statistically significant differences for the column sex\n",
      "Found statistically significant differences for the column address\n",
      "Found statistically significant differences for the column Medu\n",
      "Found statistically significant differences for the column Mjob\n",
      "Found statistically significant differences for the column higher\n",
      "Found statistically significant differences for the column romantic\n"
     ]
    }
   ],
   "source": [
    "for col in ['school', 'sex', 'address', 'famsize', 'Pstatus', 'Medu', 'Fedu',\n",
    "            'Mjob', 'Fjob', 'reason', 'guardian', 'traveltime', 'studytime',\n",
    "            'schoolsup', 'famsup', 'paid', 'activities', 'nursery', 'higher',\n",
    "            'internet', 'romantic', 'famrel', 'freetime', 'goout', 'health']:\n",
    "    get_stat_dif(col)"
   ]
  },
  {
   "cell_type": "code",
   "execution_count": 202,
   "metadata": {},
   "outputs": [
    {
     "data": {
      "text/html": [
       "<div>\n",
       "<style scoped>\n",
       "    .dataframe tbody tr th:only-of-type {\n",
       "        vertical-align: middle;\n",
       "    }\n",
       "\n",
       "    .dataframe tbody tr th {\n",
       "        vertical-align: top;\n",
       "    }\n",
       "\n",
       "    .dataframe thead th {\n",
       "        text-align: right;\n",
       "    }\n",
       "</style>\n",
       "<table border=\"1\" class=\"dataframe\">\n",
       "  <thead>\n",
       "    <tr style=\"text-align: right;\">\n",
       "      <th></th>\n",
       "      <th>sex</th>\n",
       "      <th>age</th>\n",
       "      <th>address</th>\n",
       "      <th>Medu</th>\n",
       "      <th>Mjob</th>\n",
       "      <th>failures</th>\n",
       "      <th>higher</th>\n",
       "      <th>romantic</th>\n",
       "      <th>absences</th>\n",
       "      <th>score</th>\n",
       "    </tr>\n",
       "  </thead>\n",
       "  <tbody>\n",
       "    <tr>\n",
       "      <th>0</th>\n",
       "      <td>F</td>\n",
       "      <td>18</td>\n",
       "      <td>U</td>\n",
       "      <td>4.0</td>\n",
       "      <td>at_home</td>\n",
       "      <td>0.0</td>\n",
       "      <td>yes</td>\n",
       "      <td>no</td>\n",
       "      <td>6.0</td>\n",
       "      <td>30.0</td>\n",
       "    </tr>\n",
       "    <tr>\n",
       "      <th>1</th>\n",
       "      <td>F</td>\n",
       "      <td>17</td>\n",
       "      <td>U</td>\n",
       "      <td>1.0</td>\n",
       "      <td>at_home</td>\n",
       "      <td>0.0</td>\n",
       "      <td>yes</td>\n",
       "      <td>no</td>\n",
       "      <td>4.0</td>\n",
       "      <td>30.0</td>\n",
       "    </tr>\n",
       "    <tr>\n",
       "      <th>2</th>\n",
       "      <td>F</td>\n",
       "      <td>15</td>\n",
       "      <td>U</td>\n",
       "      <td>1.0</td>\n",
       "      <td>at_home</td>\n",
       "      <td>3.0</td>\n",
       "      <td>yes</td>\n",
       "      <td>other</td>\n",
       "      <td>10.0</td>\n",
       "      <td>50.0</td>\n",
       "    </tr>\n",
       "    <tr>\n",
       "      <th>3</th>\n",
       "      <td>F</td>\n",
       "      <td>15</td>\n",
       "      <td>U</td>\n",
       "      <td>4.0</td>\n",
       "      <td>health</td>\n",
       "      <td>0.0</td>\n",
       "      <td>yes</td>\n",
       "      <td>yes</td>\n",
       "      <td>2.0</td>\n",
       "      <td>75.0</td>\n",
       "    </tr>\n",
       "    <tr>\n",
       "      <th>4</th>\n",
       "      <td>F</td>\n",
       "      <td>16</td>\n",
       "      <td>U</td>\n",
       "      <td>3.0</td>\n",
       "      <td>other</td>\n",
       "      <td>0.0</td>\n",
       "      <td>yes</td>\n",
       "      <td>no</td>\n",
       "      <td>4.0</td>\n",
       "      <td>50.0</td>\n",
       "    </tr>\n",
       "  </tbody>\n",
       "</table>\n",
       "</div>"
      ],
      "text/plain": [
       "  sex  age address Medu     Mjob  failures higher romantic  absences  score\n",
       "0   F   18       U  4.0  at_home       0.0    yes       no       6.0   30.0\n",
       "1   F   17       U  1.0  at_home       0.0    yes       no       4.0   30.0\n",
       "2   F   15       U  1.0  at_home       3.0    yes    other      10.0   50.0\n",
       "3   F   15       U  4.0   health       0.0    yes      yes       2.0   75.0\n",
       "4   F   16       U  3.0    other       0.0    yes       no       4.0   50.0"
      ]
     },
     "execution_count": 202,
     "metadata": {},
     "output_type": "execute_result"
    }
   ],
   "source": [
    "students_for_model = students.loc[:, ['sex', 'age', 'address', 'Medu', 'Mjob', 'failures',\n",
    "                                      'higher', 'romantic', 'absences', 'score']]\n",
    "students_for_model.head()"
   ]
  },
  {
   "cell_type": "code",
   "execution_count": null,
   "metadata": {},
   "outputs": [],
   "source": []
  }
 ],
 "metadata": {
  "kernelspec": {
   "display_name": "Python 3",
   "language": "python",
   "name": "python3"
  },
  "language_info": {
   "codemirror_mode": {
    "name": "ipython",
    "version": 3
   },
   "file_extension": ".py",
   "mimetype": "text/x-python",
   "name": "python",
   "nbconvert_exporter": "python",
   "pygments_lexer": "ipython3",
   "version": "3.8.3"
  }
 },
 "nbformat": 4,
 "nbformat_minor": 4
}
