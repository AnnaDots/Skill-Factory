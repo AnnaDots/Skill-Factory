{
 "cells": [
  {
   "cell_type": "code",
   "execution_count": 1,
   "metadata": {
    "_cell_guid": "b1076dfc-b9ad-4769-8c92-a6c4dae69d19",
    "_uuid": "8f2839f25d086af736a60e9eeb907d3b93b6e0e5",
    "colab": {},
    "colab_type": "code",
    "id": "U2D2gTdJVp90"
   },
   "outputs": [],
   "source": [
    "import numpy as np\n",
    "import pandas as pd\n",
    "import seaborn as sns\n",
    "import matplotlib.pyplot as plt\n",
    "from collections import Counter, defaultdict\n",
    "from sklearn.preprocessing import MultiLabelBinarizer\n",
    "import itertools"
   ]
  },
  {
   "cell_type": "code",
   "execution_count": 2,
   "metadata": {
    "_cell_guid": "79c7e3d0-c299-4dcb-8224-4455121ee9b0",
    "_uuid": "d629ff2d2480ee46fbb7e2d37f6b5fab8052498a",
    "colab": {},
    "colab_type": "code",
    "id": "oyGfxL3eVp9-"
   },
   "outputs": [
    {
     "data": {
      "text/html": [
       "<div>\n",
       "<style scoped>\n",
       "    .dataframe tbody tr th:only-of-type {\n",
       "        vertical-align: middle;\n",
       "    }\n",
       "\n",
       "    .dataframe tbody tr th {\n",
       "        vertical-align: top;\n",
       "    }\n",
       "\n",
       "    .dataframe thead th {\n",
       "        text-align: right;\n",
       "    }\n",
       "</style>\n",
       "<table border=\"1\" class=\"dataframe\">\n",
       "  <thead>\n",
       "    <tr style=\"text-align: right;\">\n",
       "      <th></th>\n",
       "      <th>imdb_id</th>\n",
       "      <th>budget</th>\n",
       "      <th>revenue</th>\n",
       "      <th>original_title</th>\n",
       "      <th>cast</th>\n",
       "      <th>director</th>\n",
       "      <th>tagline</th>\n",
       "      <th>overview</th>\n",
       "      <th>runtime</th>\n",
       "      <th>genres</th>\n",
       "      <th>production_companies</th>\n",
       "      <th>release_date</th>\n",
       "      <th>vote_average</th>\n",
       "      <th>release_year</th>\n",
       "    </tr>\n",
       "  </thead>\n",
       "  <tbody>\n",
       "    <tr>\n",
       "      <th>0</th>\n",
       "      <td>tt0369610</td>\n",
       "      <td>150000000</td>\n",
       "      <td>1513528810</td>\n",
       "      <td>Jurassic World</td>\n",
       "      <td>Chris Pratt|Bryce Dallas Howard|Irrfan Khan|Vi...</td>\n",
       "      <td>Colin Trevorrow</td>\n",
       "      <td>The park is open.</td>\n",
       "      <td>Twenty-two years after the events of Jurassic ...</td>\n",
       "      <td>124</td>\n",
       "      <td>Action|Adventure|Science Fiction|Thriller</td>\n",
       "      <td>Universal Studios|Amblin Entertainment|Legenda...</td>\n",
       "      <td>6/9/2015</td>\n",
       "      <td>6.5</td>\n",
       "      <td>2015</td>\n",
       "    </tr>\n",
       "    <tr>\n",
       "      <th>1</th>\n",
       "      <td>tt1392190</td>\n",
       "      <td>150000000</td>\n",
       "      <td>378436354</td>\n",
       "      <td>Mad Max: Fury Road</td>\n",
       "      <td>Tom Hardy|Charlize Theron|Hugh Keays-Byrne|Nic...</td>\n",
       "      <td>George Miller</td>\n",
       "      <td>What a Lovely Day.</td>\n",
       "      <td>An apocalyptic story set in the furthest reach...</td>\n",
       "      <td>120</td>\n",
       "      <td>Action|Adventure|Science Fiction|Thriller</td>\n",
       "      <td>Village Roadshow Pictures|Kennedy Miller Produ...</td>\n",
       "      <td>5/13/2015</td>\n",
       "      <td>7.1</td>\n",
       "      <td>2015</td>\n",
       "    </tr>\n",
       "    <tr>\n",
       "      <th>2</th>\n",
       "      <td>tt2908446</td>\n",
       "      <td>110000000</td>\n",
       "      <td>295238201</td>\n",
       "      <td>Insurgent</td>\n",
       "      <td>Shailene Woodley|Theo James|Kate Winslet|Ansel...</td>\n",
       "      <td>Robert Schwentke</td>\n",
       "      <td>One Choice Can Destroy You</td>\n",
       "      <td>Beatrice Prior must confront her inner demons ...</td>\n",
       "      <td>119</td>\n",
       "      <td>Adventure|Science Fiction|Thriller</td>\n",
       "      <td>Summit Entertainment|Mandeville Films|Red Wago...</td>\n",
       "      <td>3/18/2015</td>\n",
       "      <td>6.3</td>\n",
       "      <td>2015</td>\n",
       "    </tr>\n",
       "    <tr>\n",
       "      <th>3</th>\n",
       "      <td>tt2488496</td>\n",
       "      <td>200000000</td>\n",
       "      <td>2068178225</td>\n",
       "      <td>Star Wars: The Force Awakens</td>\n",
       "      <td>Harrison Ford|Mark Hamill|Carrie Fisher|Adam D...</td>\n",
       "      <td>J.J. Abrams</td>\n",
       "      <td>Every generation has a story.</td>\n",
       "      <td>Thirty years after defeating the Galactic Empi...</td>\n",
       "      <td>136</td>\n",
       "      <td>Action|Adventure|Science Fiction|Fantasy</td>\n",
       "      <td>Lucasfilm|Truenorth Productions|Bad Robot</td>\n",
       "      <td>12/15/2015</td>\n",
       "      <td>7.5</td>\n",
       "      <td>2015</td>\n",
       "    </tr>\n",
       "    <tr>\n",
       "      <th>4</th>\n",
       "      <td>tt2820852</td>\n",
       "      <td>190000000</td>\n",
       "      <td>1506249360</td>\n",
       "      <td>Furious 7</td>\n",
       "      <td>Vin Diesel|Paul Walker|Jason Statham|Michelle ...</td>\n",
       "      <td>James Wan</td>\n",
       "      <td>Vengeance Hits Home</td>\n",
       "      <td>Deckard Shaw seeks revenge against Dominic Tor...</td>\n",
       "      <td>137</td>\n",
       "      <td>Action|Crime|Thriller</td>\n",
       "      <td>Universal Pictures|Original Film|Media Rights ...</td>\n",
       "      <td>4/1/2015</td>\n",
       "      <td>7.3</td>\n",
       "      <td>2015</td>\n",
       "    </tr>\n",
       "  </tbody>\n",
       "</table>\n",
       "</div>"
      ],
      "text/plain": [
       "     imdb_id     budget     revenue                original_title  \\\n",
       "0  tt0369610  150000000  1513528810                Jurassic World   \n",
       "1  tt1392190  150000000   378436354            Mad Max: Fury Road   \n",
       "2  tt2908446  110000000   295238201                     Insurgent   \n",
       "3  tt2488496  200000000  2068178225  Star Wars: The Force Awakens   \n",
       "4  tt2820852  190000000  1506249360                     Furious 7   \n",
       "\n",
       "                                                cast          director  \\\n",
       "0  Chris Pratt|Bryce Dallas Howard|Irrfan Khan|Vi...   Colin Trevorrow   \n",
       "1  Tom Hardy|Charlize Theron|Hugh Keays-Byrne|Nic...     George Miller   \n",
       "2  Shailene Woodley|Theo James|Kate Winslet|Ansel...  Robert Schwentke   \n",
       "3  Harrison Ford|Mark Hamill|Carrie Fisher|Adam D...       J.J. Abrams   \n",
       "4  Vin Diesel|Paul Walker|Jason Statham|Michelle ...         James Wan   \n",
       "\n",
       "                         tagline  \\\n",
       "0              The park is open.   \n",
       "1             What a Lovely Day.   \n",
       "2     One Choice Can Destroy You   \n",
       "3  Every generation has a story.   \n",
       "4            Vengeance Hits Home   \n",
       "\n",
       "                                            overview  runtime  \\\n",
       "0  Twenty-two years after the events of Jurassic ...      124   \n",
       "1  An apocalyptic story set in the furthest reach...      120   \n",
       "2  Beatrice Prior must confront her inner demons ...      119   \n",
       "3  Thirty years after defeating the Galactic Empi...      136   \n",
       "4  Deckard Shaw seeks revenge against Dominic Tor...      137   \n",
       "\n",
       "                                      genres  \\\n",
       "0  Action|Adventure|Science Fiction|Thriller   \n",
       "1  Action|Adventure|Science Fiction|Thriller   \n",
       "2         Adventure|Science Fiction|Thriller   \n",
       "3   Action|Adventure|Science Fiction|Fantasy   \n",
       "4                      Action|Crime|Thriller   \n",
       "\n",
       "                                production_companies release_date  \\\n",
       "0  Universal Studios|Amblin Entertainment|Legenda...     6/9/2015   \n",
       "1  Village Roadshow Pictures|Kennedy Miller Produ...    5/13/2015   \n",
       "2  Summit Entertainment|Mandeville Films|Red Wago...    3/18/2015   \n",
       "3          Lucasfilm|Truenorth Productions|Bad Robot   12/15/2015   \n",
       "4  Universal Pictures|Original Film|Media Rights ...     4/1/2015   \n",
       "\n",
       "   vote_average  release_year  \n",
       "0           6.5          2015  \n",
       "1           7.1          2015  \n",
       "2           6.3          2015  \n",
       "3           7.5          2015  \n",
       "4           7.3          2015  "
      ]
     },
     "execution_count": 2,
     "metadata": {},
     "output_type": "execute_result"
    }
   ],
   "source": [
    "movies = pd.read_csv('movie_bd_v5.csv')\n",
    "movies.head()"
   ]
  },
  {
   "cell_type": "markdown",
   "metadata": {
    "colab_type": "text",
    "id": "DTIt7ezGVp-G"
   },
   "source": [
    "# Предобработка"
   ]
  },
  {
   "cell_type": "code",
   "execution_count": 3,
   "metadata": {
    "colab": {},
    "colab_type": "code",
    "id": "jNb40DwKVp-H"
   },
   "outputs": [],
   "source": [
    "answers = {} # create a dictionary for answers\n",
    "\n",
    "# The time given in the dataset is in string format, so we need to change it in datetime format\n",
    "movies['release_date'] = pd.to_datetime(movies['release_date'])\n",
    "\n",
    "# Add a column with profit\n",
    "movies['profit'] = movies['revenue'] - movies['budget']\n",
    "\n",
    "# Add columns where cast, directors, genres and production companies are provided as lists\n",
    "for field_name in ('cast', 'director', 'genres', 'production_companies'):\n",
    "    movies[field_name + '_aslist'] = movies[field_name].apply(lambda s: s.split(sep='|'))\n",
    "\n",
    "# Add a column with months from  movies date of release\n",
    "movies['release_month'] = movies['release_date'].apply(lambda ts: ts.month)\n",
    "\n",
    "# Add a column with titles length (number of symbols)\n",
    "movies['title_length'] = movies['original_title'].apply(len)\n",
    "\n",
    "# Add a column with overview length (number of words)\n",
    "movies['overview_length'] = movies['overview'].apply(lambda s: len(s.split(' ')))\n",
    "\n",
    "\n",
    "# A function creates a dictionary with unique values from some column of strings in a given DataFrame\n",
    "def build_dict(df, column):\n",
    "    dict = {}\n",
    "    for i_line in range(len(df)):\n",
    "        sublist = df.iloc[i_line][column].split(sep='|')\n",
    "        for i_item in sublist:\n",
    "            if not(i_item in dict):\n",
    "                dict[i_item] = 0\n",
    "    return dict"
   ]
  },
  {
   "cell_type": "markdown",
   "metadata": {
    "colab_type": "text",
    "id": "YxZaH-nPVp-L"
   },
   "source": [
    "# 1. У какого фильма из списка самый большой бюджет?"
   ]
  },
  {
   "cell_type": "markdown",
   "metadata": {
    "colab_type": "text",
    "id": "Nd-G5gX6Vp-M"
   },
   "source": [
    "Использовать варианты ответов в коде решения запрещено.    \n",
    "Вы думаете и в жизни у вас будут варианты ответов?)"
   ]
  },
  {
   "cell_type": "code",
   "execution_count": 4,
   "metadata": {
    "colab": {},
    "colab_type": "code",
    "id": "uVnXAY5RVp-O"
   },
   "outputs": [
    {
     "name": "stdout",
     "output_type": "stream",
     "text": [
      "Pirates of the Caribbean: On Stranger Tides (tt1298650)\n"
     ]
    }
   ],
   "source": [
    "answers['1'] = '{} ({})'.format(movies[movies.budget == movies.budget.max()]['original_title'].values[0], \\\n",
    "                                movies[movies.budget == movies.budget.max()].imdb_id.values[0])\n",
    "print(answers['1'])\n",
    "# + right answer"
   ]
  },
  {
   "cell_type": "markdown",
   "metadata": {
    "colab_type": "text",
    "id": "FNRbbI3vVp-c"
   },
   "source": [
    "# 2. Какой из фильмов самый длительный (в минутах)?"
   ]
  },
  {
   "cell_type": "code",
   "execution_count": 5,
   "metadata": {
    "colab": {},
    "colab_type": "code",
    "id": "ot-VX2XrVp-g"
   },
   "outputs": [
    {
     "name": "stdout",
     "output_type": "stream",
     "text": [
      "Gods and Generals (tt0279111)\n"
     ]
    }
   ],
   "source": [
    "answers['2'] = '{} ({})'.format(movies[movies.runtime == movies.runtime.max()]['original_title'].values[0], \\\n",
    "                                movies[movies.runtime == movies.runtime.max()].imdb_id.values[0])\n",
    "print(answers['2'])\n",
    "# + right answer"
   ]
  },
  {
   "cell_type": "markdown",
   "metadata": {
    "colab_type": "text",
    "id": "bapLlpW8Vp-k"
   },
   "source": [
    "# 3. Какой из фильмов самый короткий (в минутах)?\n",
    "\n",
    "\n",
    "\n"
   ]
  },
  {
   "cell_type": "code",
   "execution_count": 6,
   "metadata": {
    "colab": {},
    "colab_type": "code",
    "id": "YBxaSHuAVp-l"
   },
   "outputs": [
    {
     "name": "stdout",
     "output_type": "stream",
     "text": [
      "Winnie the Pooh (tt1449283)\n"
     ]
    }
   ],
   "source": [
    "answers['3'] = '{} ({})'.format(movies[movies.runtime == movies.runtime.min()]['original_title'].values[0], \\\n",
    "                                movies[movies.runtime == movies.runtime.min()].imdb_id.values[0])\n",
    "print(answers['3'])\n",
    "# + right answer"
   ]
  },
  {
   "cell_type": "markdown",
   "metadata": {
    "colab_type": "text",
    "id": "TfQbxbfNVp-p"
   },
   "source": [
    "# 4. Какова средняя длительность фильмов?\n"
   ]
  },
  {
   "cell_type": "code",
   "execution_count": 7,
   "metadata": {
    "colab": {},
    "colab_type": "code",
    "id": "5K6dKZYVVp-q"
   },
   "outputs": [
    {
     "name": "stdout",
     "output_type": "stream",
     "text": [
      "110\n"
     ]
    }
   ],
   "source": [
    "answers['4'] = int(round(movies.runtime.mean(), 0))\n",
    "print(answers['4'])\n",
    "# + right answer"
   ]
  },
  {
   "cell_type": "markdown",
   "metadata": {
    "colab_type": "text",
    "id": "r5TvbnT_Vp-u"
   },
   "source": [
    "# 5. Каково медианное значение длительности фильмов? "
   ]
  },
  {
   "cell_type": "code",
   "execution_count": 8,
   "metadata": {
    "colab": {},
    "colab_type": "code",
    "id": "iBROplKnVp-v"
   },
   "outputs": [
    {
     "name": "stdout",
     "output_type": "stream",
     "text": [
      "107\n"
     ]
    }
   ],
   "source": [
    "answers['5'] = int(round(movies.runtime.median(), 0))\n",
    "print(answers['5'])\n",
    "# + right answer"
   ]
  },
  {
   "cell_type": "markdown",
   "metadata": {
    "colab_type": "text",
    "id": "39P-deDSVp-y"
   },
   "source": [
    "# 6. Какой самый прибыльный фильм?\n",
    "#### Внимание! Здесь и далее под «прибылью» или «убытками» понимается разность между сборами и бюджетом фильма. (прибыль = сборы - бюджет) в нашем датасете это будет (profit = revenue - budget) "
   ]
  },
  {
   "cell_type": "code",
   "execution_count": 9,
   "metadata": {
    "colab": {},
    "colab_type": "code",
    "id": "UYZh4T9WVp-y"
   },
   "outputs": [
    {
     "name": "stdout",
     "output_type": "stream",
     "text": [
      "Avatar (tt0499549)\n"
     ]
    }
   ],
   "source": [
    "answers['6'] = '{} ({})'.format(movies[movies.profit == movies.profit.max()]['original_title'].values[0], \\\n",
    "                                movies[movies.profit == movies.profit.max()].imdb_id.values[0])\n",
    "print(answers['6'])\n",
    "# + right answer"
   ]
  },
  {
   "cell_type": "markdown",
   "metadata": {
    "colab_type": "text",
    "id": "M99JmIX4Vp-2"
   },
   "source": [
    "# 7. Какой фильм самый убыточный? "
   ]
  },
  {
   "cell_type": "code",
   "execution_count": 10,
   "metadata": {
    "colab": {},
    "colab_type": "code",
    "id": "w-D2m4XPVp-3"
   },
   "outputs": [
    {
     "name": "stdout",
     "output_type": "stream",
     "text": [
      "The Lone Ranger (tt1210819)\n"
     ]
    }
   ],
   "source": [
    "answers['7'] = '{} ({})'.format(movies[movies.profit == movies.profit.min()]['original_title'].values[0], \\\n",
    "                                movies[movies.profit == movies.profit.min()].imdb_id.values[0])\n",
    "print(answers['7'])\n",
    "# + right answer"
   ]
  },
  {
   "cell_type": "markdown",
   "metadata": {
    "colab_type": "text",
    "id": "wEOM5ERVVp-6"
   },
   "source": [
    "# 8. У скольких фильмов из датасета объем сборов оказался выше бюджета?"
   ]
  },
  {
   "cell_type": "code",
   "execution_count": 11,
   "metadata": {
    "colab": {},
    "colab_type": "code",
    "id": "y00_7HD6Vp-7"
   },
   "outputs": [
    {
     "name": "stdout",
     "output_type": "stream",
     "text": [
      "1478\n"
     ]
    }
   ],
   "source": [
    "answers['8'] = len(movies[movies.profit > 0])\n",
    "print(answers['8'])\n",
    "# + right answer"
   ]
  },
  {
   "cell_type": "markdown",
   "metadata": {
    "colab_type": "text",
    "id": "xhpspA9KVp_A"
   },
   "source": [
    "# 9. Какой фильм оказался самым кассовым в 2008 году?"
   ]
  },
  {
   "cell_type": "code",
   "execution_count": 12,
   "metadata": {
    "colab": {},
    "colab_type": "code",
    "id": "MoUyQr9RVp_B"
   },
   "outputs": [
    {
     "name": "stdout",
     "output_type": "stream",
     "text": [
      "The Dark Knight (tt0468569)\n"
     ]
    }
   ],
   "source": [
    "answers['9'] = '{} ({})'.format(movies[(movies.revenue == movies[movies.release_year == 2008].revenue.max()) & (movies.release_year == 2008)]['original_title'].values[0], \\\n",
    "                                movies[(movies.revenue == movies[movies.release_year == 2008].revenue.max()) & (movies.release_year == 2008)].imdb_id.values[0])\n",
    "print(answers['9'])\n",
    "# + right answer"
   ]
  },
  {
   "cell_type": "markdown",
   "metadata": {
    "colab_type": "text",
    "id": "K7L3nbRXVp-X"
   },
   "source": [
    "ВАРИАНТ 2"
   ]
  },
  {
   "cell_type": "code",
   "execution_count": 13,
   "metadata": {},
   "outputs": [
    {
     "name": "stdout",
     "output_type": "stream",
     "text": [
      "The Dark Knight (tt0468569)\n"
     ]
    }
   ],
   "source": [
    "start_date = pd.Timestamp(day=1, month=1, year=2008)\n",
    "end_date = pd.Timestamp(day=31, month=12, year=2008)\n",
    "print('{} ({})'.format(movies[movies.revenue == movies[movies.release_date.between(start_date, end_date)].revenue.max()]['original_title'].values[0], \\\n",
    "                       movies[movies.revenue == movies[movies.release_date.between(start_date, end_date)].revenue.max()].imdb_id.values[0]))"
   ]
  },
  {
   "cell_type": "markdown",
   "metadata": {
    "colab_type": "text",
    "id": "Zi4hDKidVp_F"
   },
   "source": [
    "# 10. Самый убыточный фильм за период с 2012 по 2014 г. (включительно)?\n"
   ]
  },
  {
   "cell_type": "code",
   "execution_count": 14,
   "metadata": {
    "colab": {},
    "colab_type": "code",
    "id": "XqyRmufJVp_F"
   },
   "outputs": [
    {
     "name": "stdout",
     "output_type": "stream",
     "text": [
      "The Lone Ranger (tt1210819)\n"
     ]
    }
   ],
   "source": [
    "start_date = pd.Timestamp(day=1, month=1, year=2012)\n",
    "end_date = pd.Timestamp(day=31, month=12, year=2014)\n",
    "answers['10'] = '{} ({})'.format(movies[movies.profit == movies[movies.release_date.between(start_date, end_date)].profit.min()]['original_title'].values[0], \\\n",
    "                                 movies[movies.profit == movies[movies.release_date.between(start_date, end_date)].profit.min()].imdb_id.values[0])\n",
    "print(answers['10'])\n",
    "# + right answer"
   ]
  },
  {
   "cell_type": "markdown",
   "metadata": {
    "colab_type": "text",
    "id": "K7L3nbRXVp-X"
   },
   "source": [
    "ВАРИАНТ 2"
   ]
  },
  {
   "cell_type": "code",
   "execution_count": 15,
   "metadata": {},
   "outputs": [
    {
     "data": {
      "text/plain": [
       "'The Lone Ranger (tt1210819)'"
      ]
     },
     "execution_count": 15,
     "metadata": {},
     "output_type": "execute_result"
    }
   ],
   "source": [
    "'{} ({})'.format(movies[(movies['profit'] == movies[movies['release_year'].isin([2012, 2013, 2014])]['profit'].min()) & (movies['release_year'].isin([2012, 2013, 2014]))]['original_title'].values[0], \\\n",
    "                 movies[(movies['profit'] == movies[movies['release_year'].isin([2012, 2013, 2014])]['profit'].min()) & (movies['release_year'].isin([2012, 2013, 2014]))].imdb_id.values[0])"
   ]
  },
  {
   "cell_type": "markdown",
   "metadata": {
    "colab_type": "text",
    "id": "EA7Sa9dkVp_I"
   },
   "source": [
    "# 11. Какого жанра фильмов больше всего?"
   ]
  },
  {
   "cell_type": "markdown",
   "metadata": {
    "colab_type": "text",
    "id": "K7L3nbRXVp-X"
   },
   "source": [
    "ВАРИАНТ 1"
   ]
  },
  {
   "cell_type": "code",
   "execution_count": 16,
   "metadata": {},
   "outputs": [
    {
     "name": "stdout",
     "output_type": "stream",
     "text": [
      "Drama\n",
      "Wall time: 0 ns\n"
     ]
    }
   ],
   "source": [
    "%%time\n",
    "\n",
    "# Create a list with all genres from dataframe and count how many times each of them is presented in the list by Counter\n",
    "genres_count_1 = Counter(movies['genres'].str.cat(sep='|').split(sep='|')) \n",
    "answers['11'] = pd.Series(genres_count_1).sort_values(ascending=False).index[0]\n",
    "print(answers['11'])\n",
    "# + right answer"
   ]
  },
  {
   "cell_type": "markdown",
   "metadata": {
    "colab_type": "text",
    "id": "K7L3nbRXVp-X"
   },
   "source": [
    "ВАРИАНТ 2"
   ]
  },
  {
   "cell_type": "code",
   "execution_count": 17,
   "metadata": {},
   "outputs": [
    {
     "name": "stdout",
     "output_type": "stream",
     "text": [
      "Drama: 782 entries\n",
      "Wall time: 26.8 ms\n"
     ]
    }
   ],
   "source": [
    "%%time\n",
    "\n",
    "# Explode dataframe by genres: duplicate lines with multiple genres in order each line to have only 1 genre\n",
    "genres_count_2 = movies.explode(column='genres_aslist')['genres_aslist'].value_counts()\n",
    "\n",
    "print('{}: {} entries'.format(pd.Series(genres_count_2).sort_values(ascending=False).index[0], \\\n",
    "                              pd.Series(genres_count_2).sort_values(ascending=False)[0]))"
   ]
  },
  {
   "cell_type": "markdown",
   "metadata": {
    "colab_type": "text",
    "id": "K7L3nbRXVp-X"
   },
   "source": [
    "ВАРИАНТ 3"
   ]
  },
  {
   "cell_type": "code",
   "execution_count": 18,
   "metadata": {},
   "outputs": [
    {
     "name": "stdout",
     "output_type": "stream",
     "text": [
      "Drama: 782 entries\n",
      "Wall time: 268 ms\n"
     ]
    }
   ],
   "source": [
    "%%time\n",
    "\n",
    "# Build a dictionary with all unique genres\n",
    "genres_count_3 = build_dict(movies, 'genres')\n",
    "\n",
    "# For each genre in the dictionary count how often it's mentioned in the data frame\n",
    "for key in genres_count_3.keys():\n",
    "    genres_count_3[key] = movies['genres'].str.contains(key).sum()\n",
    "\n",
    "print('{}: {} entries'.format(pd.Series(genres_count_3).sort_values(ascending=False).index[0], \\\n",
    "                              pd.Series(genres_count_3).sort_values(ascending=False)[0]))"
   ]
  },
  {
   "cell_type": "markdown",
   "metadata": {
    "colab_type": "text",
    "id": "K7L3nbRXVp-X"
   },
   "source": [
    "ВАРИАНТ 4"
   ]
  },
  {
   "cell_type": "code",
   "execution_count": 19,
   "metadata": {
    "colab": {},
    "colab_type": "code",
    "id": "zsJAwJ8QVp_J"
   },
   "outputs": [
    {
     "name": "stdout",
     "output_type": "stream",
     "text": [
      "Drama: 782 entries\n",
      "Wall time: 240 ms\n"
     ]
    }
   ],
   "source": [
    "%%time\n",
    "\n",
    "genres_count_4 = defaultdict(int)\n",
    "\n",
    "for i_line in range(len(movies)): # for each line in the DataFrame\n",
    "    for i_item in movies.iloc[i_line]['genres_aslist']: # count each item in every list of genres\n",
    "        genres_count_4[i_item] += 1\n",
    "\n",
    "print('{}: {} entries'.format(pd.Series(genres_count_4).sort_values(ascending=False).index[0], \\\n",
    "                              pd.Series(genres_count_4).sort_values(ascending=False)[0]))"
   ]
  },
  {
   "cell_type": "markdown",
   "metadata": {
    "colab_type": "text",
    "id": "K7L3nbRXVp-X"
   },
   "source": [
    "ВАРИАНТ 5"
   ]
  },
  {
   "cell_type": "code",
   "execution_count": 20,
   "metadata": {},
   "outputs": [
    {
     "name": "stdout",
     "output_type": "stream",
     "text": [
      "Drama: 782 entries\n",
      "Wall time: 50 ms\n"
     ]
    }
   ],
   "source": [
    "%%time\n",
    "\n",
    "# Optimize the variant 4:\n",
    "# In order not to go through the whole dataframe, let's create a series with unique sets of genres\n",
    "# Number of unique sets of genres is less than the number of lines in the dataframe\n",
    "genres_series = movies.genres_aslist.value_counts() # series of lists\n",
    "\n",
    "genres_count_5 = Counter()\n",
    "for i in range(len(genres_series)):\n",
    "    for genre in genres_series.index[i]:\n",
    "        genres_count_5[genre] += genres_series.iloc[i]\n",
    "\n",
    "print('{}: {} entries'.format(pd.Series(genres_count_5).sort_values(ascending=False).index[0], \\\n",
    "                              pd.Series(genres_count_5).sort_values(ascending=False)[0]))"
   ]
  },
  {
   "cell_type": "markdown",
   "metadata": {
    "colab_type": "text",
    "id": "K7L3nbRXVp-X"
   },
   "source": [
    "ВАРИАНТ 6"
   ]
  },
  {
   "cell_type": "code",
   "execution_count": 21,
   "metadata": {},
   "outputs": [
    {
     "name": "stdout",
     "output_type": "stream",
     "text": [
      "Drama: 782 entries\n",
      "Wall time: 65 ms\n"
     ]
    }
   ],
   "source": [
    "%%time\n",
    "\n",
    "# Make a copy of the movies dataset binary coded for each genre\n",
    "mlb = MultiLabelBinarizer() # use multi label binarizer from sklearn library\n",
    "movies_bicoded_genres = movies.copy()\n",
    "movies_bicoded_genres = movies_bicoded_genres.join(pd.DataFrame(mlb.fit_transform(movies_bicoded_genres.pop('genres_aslist')), columns=mlb.classes_, index=movies_bicoded_genres.index))\n",
    "\n",
    "# For each genre create a separate column\n",
    "# Each movie has 1 in the colums if it belongs to the genre and 0 if not\n",
    "sums_per_genres = movies_bicoded_genres.loc[:, 'Action':].sum() # sum values per each columns with genres\n",
    "\n",
    "print('{}: {} entries'.format(sums_per_genres[sums_per_genres == sums_per_genres.max()].index[0], \\\n",
    "                              sums_per_genres.max()))"
   ]
  },
  {
   "cell_type": "markdown",
   "metadata": {},
   "source": [
    "First two algorithms and binary coding has lower time to run"
   ]
  },
  {
   "cell_type": "markdown",
   "metadata": {
    "colab_type": "text",
    "id": "T9_bPWpkVp_Q"
   },
   "source": [
    "# 12. Фильмы какого жанра чаще всего становятся прибыльными? "
   ]
  },
  {
   "cell_type": "markdown",
   "metadata": {
    "colab_type": "text",
    "id": "Ax6g2C8SVp_M"
   },
   "source": [
    "ВАРИАНТ 1"
   ]
  },
  {
   "cell_type": "code",
   "execution_count": 22,
   "metadata": {},
   "outputs": [
    {
     "name": "stdout",
     "output_type": "stream",
     "text": [
      "Drama\n",
      "Wall time: 5.1 ms\n"
     ]
    }
   ],
   "source": [
    "%%time\n",
    "\n",
    "# Create a subset of profitable movies, create a list with all genres from this subset and count how many times each of them is presented in the list by Counter\n",
    "answers['12'] = pd.Series(Counter(movies[movies['profit'] > 0]['genres'].str.cat(sep='|').split(sep='|'))).sort_values(ascending=False).index[0]\n",
    "print(answers['12'])\n",
    "# + right answer"
   ]
  },
  {
   "cell_type": "markdown",
   "metadata": {
    "colab_type": "text",
    "id": "Ax6g2C8SVp_M"
   },
   "source": [
    "ВАРИАНТ 2"
   ]
  },
  {
   "cell_type": "code",
   "execution_count": 23,
   "metadata": {},
   "outputs": [
    {
     "name": "stdout",
     "output_type": "stream",
     "text": [
      "Drama: 560 profitable movies\n",
      "Wall time: 19.9 ms\n"
     ]
    }
   ],
   "source": [
    "%%time\n",
    "\n",
    "# Take a subset with only profitable movies and explode it by genres: duplicate lines with multiple genres in order each line to have only 1\n",
    "profit_movies_bygenre_1 = movies[movies['profit'] > 0].explode(column='genres_aslist')['genres_aslist'].value_counts().sort_values(ascending=False)\n",
    "\n",
    "print('{}: {} profitable movies'.format(profit_movies_bygenre_1.index[0], profit_movies_bygenre_1[0]))"
   ]
  },
  {
   "cell_type": "markdown",
   "metadata": {
    "colab_type": "text",
    "id": "0F23bgsDVp_U"
   },
   "source": [
    "# 13. У какого режиссера самые большие суммарные кассовые сборы?"
   ]
  },
  {
   "cell_type": "code",
   "execution_count": 24,
   "metadata": {},
   "outputs": [
    {
     "name": "stdout",
     "output_type": "stream",
     "text": [
      "Peter Jackson\n",
      "Wall time: 19.7 ms\n"
     ]
    }
   ],
   "source": [
    "%%time\n",
    "\n",
    "# Explode the dataframe by directors: duplicate lines with multiple directos in order each line to have only 1\n",
    "# Sum revenue per each director\n",
    "answers['13'] = movies.explode(column='director_aslist').groupby('director_aslist')['revenue'].sum().sort_values(ascending=False).index[0]\n",
    "print(answers['13'])\n",
    "# + right answer"
   ]
  },
  {
   "cell_type": "markdown",
   "metadata": {
    "colab_type": "text",
    "id": "PsYC9FgRVp_a"
   },
   "source": [
    "# 14. Какой режисер снял больше всего фильмов в стиле Action?"
   ]
  },
  {
   "cell_type": "markdown",
   "metadata": {
    "colab_type": "text",
    "id": "K7L3nbRXVp-X"
   },
   "source": [
    "ВАРИАНТ 1"
   ]
  },
  {
   "cell_type": "code",
   "execution_count": 25,
   "metadata": {},
   "outputs": [
    {
     "name": "stdout",
     "output_type": "stream",
     "text": [
      "Robert Rodriguez\n",
      "Wall time: 9.63 ms\n"
     ]
    }
   ],
   "source": [
    "%%time\n",
    "\n",
    "# Create a subset with action movies, create a list with all directors from this subset and count how many times each of them is presented in the list by Counter\n",
    "answers['14'] = pd.Series(Counter(movies[movies['genres'].str.contains('Action')]['director'].str.cat(sep='|').split(sep='|'))).sort_values(ascending=False).index[0]\n",
    "print(answers['14'])\n",
    "# + right answer"
   ]
  },
  {
   "cell_type": "markdown",
   "metadata": {
    "colab_type": "text",
    "id": "K7L3nbRXVp-X"
   },
   "source": [
    "ВАРИАНТ 2"
   ]
  },
  {
   "cell_type": "code",
   "execution_count": 26,
   "metadata": {},
   "outputs": [
    {
     "name": "stdout",
     "output_type": "stream",
     "text": [
      "Robert Rodriguez: 9 action movies\n",
      "Wall time: 14.8 ms\n"
     ]
    }
   ],
   "source": [
    "%%time\n",
    "\n",
    "# Take a subset with only action movies and explode it by directors: duplicate lines with multiple directors in order each line to have only 1\n",
    "# Count number of movies per each director\n",
    "action_bydirector_1 = movies[movies['genres'].str.contains('Action')].explode(column='director_aslist')['director_aslist'].value_counts().sort_values(ascending=False)\n",
    "\n",
    "print('{}: {} action movies'.format(action_bydirector_1.index[0], action_bydirector_1[0]))"
   ]
  },
  {
   "cell_type": "markdown",
   "metadata": {
    "colab_type": "text",
    "id": "PQ0KciD7Vp_f"
   },
   "source": [
    "# 15. Фильмы с каким актером принесли самые высокие кассовые сборы в 2012 году? "
   ]
  },
  {
   "cell_type": "code",
   "execution_count": 27,
   "metadata": {},
   "outputs": [
    {
     "name": "stdout",
     "output_type": "stream",
     "text": [
      "Chris Hemsworth\n",
      "Wall time: 11.2 ms\n"
     ]
    }
   ],
   "source": [
    "%%time\n",
    "\n",
    "# Take a subset with movies released in 2012 and explode it by actors: duplicate lines with multiple actors in order each line to have only 1\n",
    "# Sum revenue per each actor\n",
    "answers['15'] = movies[movies['release_year'] == 2012].explode(column='cast_aslist').groupby('cast_aslist')['revenue'].sum().sort_values(ascending=False).index[0]\n",
    "print(answers['15'])\n",
    "# + right answer"
   ]
  },
  {
   "cell_type": "markdown",
   "metadata": {
    "colab_type": "text",
    "id": "mWHyyL7QVp_j"
   },
   "source": [
    "# 16. Какой актер снялся в большем количестве высокобюджетных фильмов?"
   ]
  },
  {
   "cell_type": "markdown",
   "metadata": {
    "colab_type": "text",
    "id": "K7L3nbRXVp-X"
   },
   "source": [
    "ВАРИАНТ 1"
   ]
  },
  {
   "cell_type": "code",
   "execution_count": 28,
   "metadata": {},
   "outputs": [
    {
     "name": "stdout",
     "output_type": "stream",
     "text": [
      "Matt Damon\n",
      "Wall time: 9.73 ms\n"
     ]
    }
   ],
   "source": [
    "%%time\n",
    "\n",
    "# Create a subset with expensive movies (budget of a movie is higher than average)\n",
    "# Create a list with all actors from this subset and count how many times each of them is presented in the list by Counter\n",
    "answers['16'] = pd.Series(Counter(movies[movies['budget'] > movies['budget'].mean()]['cast'].str.cat(sep='|').split(sep='|'))).sort_values(ascending=False).index[0]\n",
    "print(answers['16'])\n",
    "# + right answer"
   ]
  },
  {
   "cell_type": "markdown",
   "metadata": {
    "colab_type": "text",
    "id": "K7L3nbRXVp-X"
   },
   "source": [
    "ВАРИАНТ 2"
   ]
  },
  {
   "cell_type": "code",
   "execution_count": 29,
   "metadata": {},
   "outputs": [
    {
     "name": "stdout",
     "output_type": "stream",
     "text": [
      "Matt Damon: 18 expensive movies\n",
      "Wall time: 20.2 ms\n"
     ]
    }
   ],
   "source": [
    "%%time\n",
    "\n",
    "# Take a subset with expensive movies and explode it by actors: duplicate lines with multiple actors in order each line to have only 1\n",
    "# Count number of movies per each actor\n",
    "exp_movies_byactor_1 = movies[movies['budget'] > movies['budget'].mean()].explode(column='cast_aslist')['cast_aslist'].value_counts().sort_values(ascending=False)\n",
    "\n",
    "print('{}: {} expensive movies'.format(exp_movies_byactor_1.index[0], exp_movies_byactor_1[0]))"
   ]
  },
  {
   "cell_type": "markdown",
   "metadata": {
    "colab_type": "text",
    "id": "NIh6AaW5Vp_n"
   },
   "source": [
    "# 17. В фильмах какого жанра больше всего снимался Nicolas Cage? "
   ]
  },
  {
   "cell_type": "markdown",
   "metadata": {
    "colab_type": "text",
    "id": "K7L3nbRXVp-X"
   },
   "source": [
    "ВАРИАНТ 1"
   ]
  },
  {
   "cell_type": "code",
   "execution_count": 30,
   "metadata": {},
   "outputs": [
    {
     "name": "stdout",
     "output_type": "stream",
     "text": [
      "Action\n",
      "Wall time: 9.32 ms\n"
     ]
    }
   ],
   "source": [
    "%%time\n",
    "\n",
    "# Create a subset with Nicolas Cage movies\n",
    "# Create a list with all genres from this subset and count how many times each of them is presented in the list by Counter\n",
    "answers['17'] = pd.Series(Counter(movies[movies['cast'].str.contains('Nicolas Cage')]['genres'].str.cat(sep='|').split(sep='|'))).sort_values(ascending=False).index[0]\n",
    "print(answers['17'])\n",
    "# + right answer"
   ]
  },
  {
   "cell_type": "markdown",
   "metadata": {
    "colab_type": "text",
    "id": "K7L3nbRXVp-X"
   },
   "source": [
    "ВАРИАНТ 2"
   ]
  },
  {
   "cell_type": "code",
   "execution_count": 31,
   "metadata": {},
   "outputs": [
    {
     "name": "stdout",
     "output_type": "stream",
     "text": [
      "Action: 17 movies with Nicolas Cage\n",
      "Wall time: 9.57 ms\n"
     ]
    }
   ],
   "source": [
    "%%time\n",
    "\n",
    "# Take a subset with Nicolas Cage movies and explode it by genres: duplicate lines with multiple genres in order each line to have only 1\n",
    "# Count number of movies per each genre\n",
    "NCage_movies_bygenre_1 = movies[movies['cast'].str.contains('Nicolas Cage')].explode(column='genres_aslist')['genres_aslist'].value_counts().sort_values(ascending=False)\n",
    "\n",
    "print('{}: {} movies with Nicolas Cage'.format(NCage_movies_bygenre_1.index[0], NCage_movies_bygenre_1[0]))"
   ]
  },
  {
   "cell_type": "markdown",
   "metadata": {
    "colab_type": "text",
    "id": "RqOmPRfWVp_q"
   },
   "source": [
    "# 18. Самый убыточный фильм от Paramount Pictures"
   ]
  },
  {
   "cell_type": "code",
   "execution_count": 32,
   "metadata": {
    "colab": {},
    "colab_type": "code",
    "id": "9E_B0Y96Vp_r"
   },
   "outputs": [
    {
     "name": "stdout",
     "output_type": "stream",
     "text": [
      "K-19: The Widowmaker (tt0267626)\n"
     ]
    }
   ],
   "source": [
    "loss_paramount = movies[(movies['profit'] == movies[movies['production_companies'].str.contains('Paramount Pictures')]['profit'].min()) & \\\n",
    "                        (movies['production_companies'].str.contains('Paramount Pictures'))]\n",
    "answers['18'] = '{} ({})'.format(loss_paramount['original_title'].values[0], \\\n",
    "                                 loss_paramount['imdb_id'].values[0])\n",
    "print(answers['18'])\n",
    "# + right answer"
   ]
  },
  {
   "cell_type": "markdown",
   "metadata": {
    "colab_type": "text",
    "id": "vS8Ur6ddVp_u"
   },
   "source": [
    "# 19. Какой год стал самым успешным по суммарным кассовым сборам?"
   ]
  },
  {
   "cell_type": "code",
   "execution_count": 33,
   "metadata": {
    "colab": {},
    "colab_type": "code",
    "id": "Dnbt4GdIVp_v"
   },
   "outputs": [
    {
     "name": "stdout",
     "output_type": "stream",
     "text": [
      "2015\n"
     ]
    }
   ],
   "source": [
    "revenue_by_year = movies.groupby('release_year')['revenue'].sum().sort_values(ascending=False)\n",
    "answers['19'] = revenue_by_year.index[0]\n",
    "print(answers['19'])\n",
    "# + right answer"
   ]
  },
  {
   "cell_type": "markdown",
   "metadata": {
    "colab_type": "text",
    "id": "JAzJh4QAVp_z"
   },
   "source": [
    "# 20. Какой самый прибыльный год для студии Warner Bros?"
   ]
  },
  {
   "cell_type": "code",
   "execution_count": 34,
   "metadata": {
    "colab": {},
    "colab_type": "code",
    "id": "wgVu02DEVp_0"
   },
   "outputs": [
    {
     "name": "stdout",
     "output_type": "stream",
     "text": [
      "2014\n"
     ]
    }
   ],
   "source": [
    "profit_by_year_WB = movies[movies.production_companies.str.contains('Warner Bros')].groupby('release_year')['profit'].sum().sort_values(ascending=False)\n",
    "answers['20'] = profit_by_year_WB.index[0]\n",
    "print(answers['20'])\n",
    "# + right answer"
   ]
  },
  {
   "cell_type": "markdown",
   "metadata": {
    "colab_type": "text",
    "id": "8Im1S2HRVp_4"
   },
   "source": [
    "# 21. В каком месяце за все годы суммарно вышло больше всего фильмов?"
   ]
  },
  {
   "cell_type": "code",
   "execution_count": 35,
   "metadata": {
    "colab": {},
    "colab_type": "code",
    "id": "lev6TH7gVp_4"
   },
   "outputs": [
    {
     "name": "stdout",
     "output_type": "stream",
     "text": [
      "9\n"
     ]
    }
   ],
   "source": [
    "count_bymonth = movies.groupby('release_month')['imdb_id'].count().sort_values(ascending=False)\n",
    "answers['21'] = count_bymonth.index[0]\n",
    "print(answers['21'])\n",
    "# + right answer"
   ]
  },
  {
   "cell_type": "markdown",
   "metadata": {
    "colab_type": "text",
    "id": "uAJsZ_NeVp_7"
   },
   "source": [
    "# 22. Сколько суммарно вышло фильмов летом? (за июнь, июль, август)"
   ]
  },
  {
   "cell_type": "code",
   "execution_count": 36,
   "metadata": {
    "colab": {},
    "colab_type": "code",
    "id": "Aa-hEREoVp_8"
   },
   "outputs": [
    {
     "name": "stdout",
     "output_type": "stream",
     "text": [
      "450\n"
     ]
    }
   ],
   "source": [
    "answers['22'] = movies.groupby('release_month')['imdb_id'].count()[5:8].sum()\n",
    "print(answers['22'])\n",
    "# + right answer"
   ]
  },
  {
   "cell_type": "markdown",
   "metadata": {
    "colab_type": "text",
    "id": "Ax6g2C8SVp_M"
   },
   "source": [
    "ВАРИАНТ 2"
   ]
  },
  {
   "cell_type": "code",
   "execution_count": 37,
   "metadata": {},
   "outputs": [
    {
     "data": {
      "text/plain": [
       "450"
      ]
     },
     "execution_count": 37,
     "metadata": {},
     "output_type": "execute_result"
    }
   ],
   "source": [
    "len(movies[movies['release_month'].isin([6, 7, 8])])"
   ]
  },
  {
   "cell_type": "markdown",
   "metadata": {
    "colab_type": "text",
    "id": "G94ppOY1VqAA"
   },
   "source": [
    "# 23. Для какого режиссера зима – самое продуктивное время года? "
   ]
  },
  {
   "cell_type": "markdown",
   "metadata": {
    "colab_type": "text",
    "id": "Ax6g2C8SVp_M"
   },
   "source": [
    "ВАРИАНТ 1"
   ]
  },
  {
   "cell_type": "code",
   "execution_count": 38,
   "metadata": {},
   "outputs": [
    {
     "name": "stdout",
     "output_type": "stream",
     "text": [
      "Peter Jackson\n",
      "Wall time: 4.51 ms\n"
     ]
    }
   ],
   "source": [
    "%%time\n",
    "\n",
    "# Filter only movies released in winter\n",
    "# For these movies create a list with all directors and count how many times each of them is presented in the list by Counter\n",
    "# Sort series with directors and their number of movies released in winter and take the highest as the answer\n",
    "winter_movies_bydirector_1 = pd.Series(Counter(movies[movies['release_month'].isin([1, 2, 12])]['director'].str.cat(sep='|').split(sep='|'))).sort_values(ascending=False)\n",
    "answers['23'] = winter_movies_bydirector_1.index[0]\n",
    "print(answers['23'])\n",
    "# + right answer"
   ]
  },
  {
   "cell_type": "markdown",
   "metadata": {
    "colab_type": "text",
    "id": "Ax6g2C8SVp_M"
   },
   "source": [
    "ВАРИАНТ 2"
   ]
  },
  {
   "cell_type": "code",
   "execution_count": 39,
   "metadata": {},
   "outputs": [
    {
     "name": "stdout",
     "output_type": "stream",
     "text": [
      "Peter Jackson: 7 movies released in winter\n",
      "Wall time: 11.2 ms\n"
     ]
    }
   ],
   "source": [
    "%%time\n",
    "\n",
    "# Explode the dataframe with movies released in winter by directors: duplicate lines with multiple directors in order each line to have only 1\n",
    "movies_exploded_bydirector = movies[movies['release_month'].isin([1, 2, 12])].explode(column='director_aslist')\n",
    "\n",
    "print('{}: {} movies released in winter'.format(movies_exploded_bydirector['director_aslist'].value_counts().index[0], \\\n",
    "                                                movies_exploded_bydirector['director_aslist'].value_counts()[0]))"
   ]
  },
  {
   "cell_type": "markdown",
   "metadata": {
    "colab_type": "text",
    "id": "Ax6g2C8SVp_M"
   },
   "source": [
    "ВАРИАНТ 3"
   ]
  },
  {
   "cell_type": "code",
   "execution_count": 40,
   "metadata": {
    "colab": {},
    "colab_type": "code",
    "id": "RhNTsamuVqAB"
   },
   "outputs": [
    {
     "name": "stdout",
     "output_type": "stream",
     "text": [
      "Peter Jackson: 7 movies released in winter\n",
      "Wall time: 210 ms\n"
     ]
    }
   ],
   "source": [
    "%%time\n",
    "\n",
    "# Make a subset of movies released in winter and build a dictionary with all unique directors in this subset\n",
    "winter_movies = movies[movies['release_month'].isin([1, 2, 12])].copy()\n",
    "winter_movies_bydirector_2 = build_dict(winter_movies, 'director')\n",
    "\n",
    "# For each director in the dictionary count the number of movies\n",
    "for key in winter_movies_bydirector_2.keys():\n",
    "    winter_movies_bydirector_2[key] = winter_movies['director'].str.contains(key).sum()\n",
    "\n",
    "print('{}: {} movies released in winter'.format(pd.Series(winter_movies_bydirector_2).sort_values(ascending=False).index[0], \\\n",
    "                                                pd.Series(winter_movies_bydirector_2).sort_values(ascending=False)[0]))"
   ]
  },
  {
   "cell_type": "markdown",
   "metadata": {
    "colab_type": "text",
    "id": "Ax6g2C8SVp_M"
   },
   "source": [
    "ВАРИАНТ 4"
   ]
  },
  {
   "cell_type": "code",
   "execution_count": 41,
   "metadata": {},
   "outputs": [
    {
     "name": "stdout",
     "output_type": "stream",
     "text": [
      "Peter Jackson: 7 movies released in winter\n",
      "Wall time: 65.4 ms\n"
     ]
    }
   ],
   "source": [
    "%%time\n",
    "\n",
    "winter_movies_bydirector_3 = defaultdict(int)\n",
    "\n",
    "for i_line in range(len(winter_movies)): # for each of the line in the subset of movies released in winter\n",
    "    for i_item in winter_movies.iloc[i_line]['director_aslist']: # count each item in every list of directors\n",
    "        winter_movies_bydirector_3[i_item] += 1\n",
    "\n",
    "print('{}: {} movies released in winter'.format(pd.Series(winter_movies_bydirector_3).sort_values(ascending=False).index[0], \\\n",
    "                                                pd.Series(winter_movies_bydirector_3).sort_values(ascending=False)[0]))"
   ]
  },
  {
   "cell_type": "markdown",
   "metadata": {
    "colab_type": "text",
    "id": "Ax6g2C8SVp_M"
   },
   "source": [
    "ВАРИАНТ 5"
   ]
  },
  {
   "cell_type": "code",
   "execution_count": 42,
   "metadata": {},
   "outputs": [
    {
     "name": "stdout",
     "output_type": "stream",
     "text": [
      "Peter Jackson: 7 movies released in winter\n",
      "Wall time: 9.55 ms\n"
     ]
    }
   ],
   "source": [
    "%%time\n",
    "\n",
    "# Make a copy of the dataset with movies released in winter binary coded for each director\n",
    "winter_movies_bicoded_director = winter_movies.copy()\n",
    "winter_movies_bicoded_director = winter_movies_bicoded_director.join(pd.DataFrame(mlb.fit_transform(winter_movies_bicoded_director.pop('director_aslist')), columns=mlb.classes_, index=winter_movies_bicoded_director.index))\n",
    "\n",
    "# For each director create a separate column\n",
    "# Each movie has 1 in the colums if it was filmed by the director to the genre and 0 if not\n",
    "winter_movies_sum_bydirector = winter_movies_bicoded_director.loc[:, 'Aaron Seltzer':].sum() # sum values per each columns with directors\n",
    "print('{}: {} movies released in winter'.format(winter_movies_sum_bydirector[winter_movies_sum_bydirector == winter_movies_sum_bydirector.max()].index[0], \\\n",
    "                                                winter_movies_sum_bydirector.max()))"
   ]
  },
  {
   "cell_type": "markdown",
   "metadata": {
    "colab_type": "text",
    "id": "RBo0JVjVVqAF"
   },
   "source": [
    "# 24. Какая студия дает самые длинные названия своим фильмам по количеству символов?"
   ]
  },
  {
   "cell_type": "code",
   "execution_count": 43,
   "metadata": {},
   "outputs": [
    {
     "name": "stdout",
     "output_type": "stream",
     "text": [
      "Four By Two Productions\n"
     ]
    }
   ],
   "source": [
    "# Explode dataframe by production companies: duplicate lines with multiple companies in order each line to have only 1\n",
    "movies_exploded_bycompanies = movies.explode(column='production_companies_aslist')\n",
    "\n",
    "# Group average title length per production company\n",
    "answers['24'] = movies_exploded_bycompanies.groupby('production_companies_aslist')['title_length'].mean().sort_values(ascending=False).index[0]\n",
    "print(answers['24'])\n",
    "# + right answer"
   ]
  },
  {
   "cell_type": "markdown",
   "metadata": {
    "colab_type": "text",
    "id": "Ax6g2C8SVp_M"
   },
   "source": [
    "ВАРИАНТ 2"
   ]
  },
  {
   "cell_type": "code",
   "execution_count": 44,
   "metadata": {
    "colab": {},
    "colab_type": "code",
    "id": "QRGS8L0iVqAG"
   },
   "outputs": [
    {
     "name": "stderr",
     "output_type": "stream",
     "text": [
      "C:\\Users\\Lenovo\\anaconda3\\lib\\site-packages\\pandas\\core\\strings.py:1954: UserWarning: This pattern has match groups. To actually get the groups, use str.extract.\n",
      "  return func(self, *args, **kwargs)\n"
     ]
    },
    {
     "name": "stdout",
     "output_type": "stream",
     "text": [
      "Four By Two Productions: 83.0 symbols per title in average\n"
     ]
    }
   ],
   "source": [
    "# Build a dictionary with all unique production companies\n",
    "title_length_bystudio = build_dict(movies, 'production_companies')\n",
    "\n",
    "# For each production company in the dictionary find the average title length\n",
    "for key in title_length_bystudio.keys():\n",
    "    title_length_bystudio[key] = movies[movies['production_companies'].str.contains(key)]['title_length'].mean()\n",
    "\n",
    "print('{}: {} symbols per title in average'.format(pd.Series(title_length_bystudio).sort_values(ascending=False).index[0], \\\n",
    "                                                   pd.Series(title_length_bystudio).sort_values(ascending=False)[0]))"
   ]
  },
  {
   "cell_type": "markdown",
   "metadata": {
    "colab_type": "text",
    "id": "9G0hbvR7VqAK"
   },
   "source": [
    "# 25. Описание фильмов какой студии в среднем самые длинные по количеству слов?"
   ]
  },
  {
   "cell_type": "code",
   "execution_count": 45,
   "metadata": {},
   "outputs": [
    {
     "name": "stdout",
     "output_type": "stream",
     "text": [
      "Midnight Picture Show\n"
     ]
    }
   ],
   "source": [
    "# From the dataframe exploded by companies (from the previous question)\n",
    "# Group average overview length per production company\n",
    "answers['25'] = movies_exploded_bycompanies.groupby('production_companies_aslist')['overview_length'].mean().sort_values(ascending=False).index[0]\n",
    "print(answers['25'])\n",
    "# + right answer"
   ]
  },
  {
   "cell_type": "markdown",
   "metadata": {
    "colab_type": "text",
    "id": "Ax6g2C8SVp_M"
   },
   "source": [
    "ВАРИАНТ 2"
   ]
  },
  {
   "cell_type": "code",
   "execution_count": 46,
   "metadata": {
    "colab": {},
    "colab_type": "code",
    "id": "Ge2GsLNxVqAK"
   },
   "outputs": [
    {
     "name": "stdout",
     "output_type": "stream",
     "text": [
      "Midnight Picture Show: 175.0 words per overview in average\n"
     ]
    }
   ],
   "source": [
    "# Build a dictionary with all unique production companies\n",
    "overview_length_bystudio = build_dict(movies, 'production_companies')\n",
    "\n",
    "# For each production company in the dictionary find the average overview length\n",
    "for key in overview_length_bystudio.keys():\n",
    "    overview_length_bystudio[key] = movies[movies['production_companies'].str.contains(key)]['overview_length'].mean()\n",
    "\n",
    "print('{}: {} words per overview in average'.format(pd.Series(overview_length_bystudio).sort_values(ascending=False).index[0], \\\n",
    "                                                    pd.Series(overview_length_bystudio).sort_values(ascending=False)[0]))"
   ]
  },
  {
   "cell_type": "markdown",
   "metadata": {
    "colab_type": "text",
    "id": "FJ1AFt90VqAP"
   },
   "source": [
    "# 26. Какие фильмы входят в 1 процент лучших по рейтингу? \n",
    "по vote_average"
   ]
  },
  {
   "cell_type": "code",
   "execution_count": 47,
   "metadata": {
    "colab": {},
    "colab_type": "code",
    "id": "8qmJVq4CVqAQ"
   },
   "outputs": [
    {
     "name": "stdout",
     "output_type": "stream",
     "text": [
      "['Inside Out' 'Room' 'Interstellar' 'Guardians of the Galaxy'\n",
      " 'The Imitation Game' 'Gone Girl' 'The Grand Budapest Hotel' 'Inception'\n",
      " 'The Dark Knight' 'The Pianist'\n",
      " 'The Lord of the Rings: The Return of the King' 'The Wolf of Wall Street'\n",
      " '12 Years a Slave' 'Memento']\n"
     ]
    }
   ],
   "source": [
    "answers['26'] = movies[movies['vote_average'] > movies['vote_average'].quantile(0.99)]['original_title'].values\n",
    "print(answers['26'])\n",
    "# + right answer"
   ]
  },
  {
   "cell_type": "markdown",
   "metadata": {
    "colab_type": "text",
    "id": "MdXsUXbCVqAV"
   },
   "source": [
    "# 27. Какие актеры чаще всего снимаются в одном фильме вместе?\n"
   ]
  },
  {
   "cell_type": "code",
   "execution_count": 48,
   "metadata": {},
   "outputs": [
    {
     "name": "stdout",
     "output_type": "stream",
     "text": [
      "[('Daniel Radcliffe', 'Emma Watson') ('Daniel Radcliffe', 'Rupert Grint')\n",
      " ('Emma Watson', 'Rupert Grint')]\n"
     ]
    }
   ],
   "source": [
    "# Create an empty list for all pairs of actors existing in the data frame\n",
    "pairs_list = []\n",
    "\n",
    "for i_line in range(len(movies)):\n",
    "    actors_pairs_sublist = list(itertools.combinations(movies.cast_aslist.iloc[i_line], 2)) # for each line of dataframe create a sublist with all actors combinations by 2\n",
    "    for pair in actors_pairs_sublist:\n",
    "        pairs_list.append(tuple(sorted(pair))) # sort each pair in order to avoid ('a', 'b') != ('b', 'a') and add it to the common list\n",
    "\n",
    "pairs_counts = pd.Series(Counter(pairs_list)) # count the number of entries for each pair\n",
    "answers['27'] = pairs_counts.sort_values(ascending = False).index[0:3].values # top three pairs\n",
    "print(answers['27'])\n",
    "# + right answer"
   ]
  },
  {
   "cell_type": "markdown",
   "metadata": {
    "colab_type": "text",
    "id": "U0nONFnGVqAX"
   },
   "source": [
    "# Submission"
   ]
  },
  {
   "cell_type": "code",
   "execution_count": 49,
   "metadata": {
    "colab": {},
    "colab_type": "code",
    "id": "IfcaRO9-VqAX",
    "outputId": "0f132912-32bb-4196-c98c-abfbc4ad5a5f"
   },
   "outputs": [
    {
     "data": {
      "text/plain": [
       "{'1': 'Pirates of the Caribbean: On Stranger Tides (tt1298650)',\n",
       " '2': 'Gods and Generals (tt0279111)',\n",
       " '3': 'Winnie the Pooh (tt1449283)',\n",
       " '4': 110,\n",
       " '5': 107,\n",
       " '6': 'Avatar (tt0499549)',\n",
       " '7': 'The Lone Ranger (tt1210819)',\n",
       " '8': 1478,\n",
       " '9': 'The Dark Knight (tt0468569)',\n",
       " '10': 'The Lone Ranger (tt1210819)',\n",
       " '11': 'Drama',\n",
       " '12': 'Drama',\n",
       " '13': 'Peter Jackson',\n",
       " '14': 'Robert Rodriguez',\n",
       " '15': 'Chris Hemsworth',\n",
       " '16': 'Matt Damon',\n",
       " '17': 'Action',\n",
       " '18': 'K-19: The Widowmaker (tt0267626)',\n",
       " '19': 2015,\n",
       " '20': 2014,\n",
       " '21': 9,\n",
       " '22': 450,\n",
       " '23': 'Peter Jackson',\n",
       " '24': 'Four By Two Productions',\n",
       " '25': 'Midnight Picture Show',\n",
       " '26': array(['Inside Out', 'Room', 'Interstellar', 'Guardians of the Galaxy',\n",
       "        'The Imitation Game', 'Gone Girl', 'The Grand Budapest Hotel',\n",
       "        'Inception', 'The Dark Knight', 'The Pianist',\n",
       "        'The Lord of the Rings: The Return of the King',\n",
       "        'The Wolf of Wall Street', '12 Years a Slave', 'Memento'],\n",
       "       dtype=object),\n",
       " '27': array([('Daniel Radcliffe', 'Emma Watson'),\n",
       "        ('Daniel Radcliffe', 'Rupert Grint'),\n",
       "        ('Emma Watson', 'Rupert Grint')], dtype=object)}"
      ]
     },
     "execution_count": 49,
     "metadata": {},
     "output_type": "execute_result"
    }
   ],
   "source": [
    "answers"
   ]
  },
  {
   "cell_type": "code",
   "execution_count": 50,
   "metadata": {
    "colab": {},
    "colab_type": "code",
    "id": "SiRmHPl8VqAd"
   },
   "outputs": [
    {
     "data": {
      "text/plain": [
       "27"
      ]
     },
     "execution_count": 50,
     "metadata": {},
     "output_type": "execute_result"
    }
   ],
   "source": [
    "len(answers)"
   ]
  },
  {
   "cell_type": "code",
   "execution_count": null,
   "metadata": {},
   "outputs": [],
   "source": []
  }
 ],
 "metadata": {
  "colab": {
   "name": "Copy of [SF-DST] Movies IMBD v4.1 TEMPLATE.ipynb",
   "provenance": []
  },
  "kernelspec": {
   "display_name": "Python 3",
   "language": "python",
   "name": "python3"
  },
  "language_info": {
   "codemirror_mode": {
    "name": "ipython",
    "version": 3
   },
   "file_extension": ".py",
   "mimetype": "text/x-python",
   "name": "python",
   "nbconvert_exporter": "python",
   "pygments_lexer": "ipython3",
   "version": "3.8.3"
  }
 },
 "nbformat": 4,
 "nbformat_minor": 1
}
